{
 "cells": [
  {
   "cell_type": "code",
   "execution_count": null,
   "metadata": {
    "collapsed": true
   },
   "outputs": [],
   "source": []
  },
  {
   "cell_type": "markdown",
   "metadata": {},
   "source": [
    "---\n",
    "\n",
    "**BEGIN CONTENT HERE**\n",
    "\n",
    "---"
   ]
  },
  {
   "cell_type": "markdown",
   "metadata": {},
   "source": [
    "### Background"
   ]
  },
  {
   "cell_type": "markdown",
   "metadata": {},
   "source": [
    "Having drawn several thousand samples from the posterior distribution of our model parameters and assessed their predictive power against a testing set, we were interested in our their ability to predict outcomes for the 2015 NCAA Tournament. Such simulations have become a popular fixture of the tournament, drawing multitudes of both hardcore basketball fans and casual watchers seeking an edge in their office betting pools. Nate Silver's 2011 effort (for a wildly improbable tournament year) is still available [at the New York Times](http://ncaabracket.nytimes.com/2011/bracket/men/fivethirtyeight-forecast). He also broke down his methodology in a [blog post](http://fivethirtyeight.blogs.nytimes.com/2011/03/14/how-we-made-our-n-c-a-a-picks/) at the time; he made use of Ken Pomeroy's statistics like we did, though his predictions appear to be a more straightforward application of probability theory in comparison to our fully Bayesian approach. Silver and this team at FiveThirtyEight continued this tradition [for the latest tournament](http://fivethirtyeight.com/interactives/march-madness-predictions-2015/#mens), simulating games and forecasting how far deep team will go before elimination."
   ]
  },
  {
   "cell_type": "markdown",
   "metadata": {},
   "source": [
    "### Methodology"
   ]
  },
  {
   "cell_type": "markdown",
   "metadata": {},
   "source": [
    "For our effort, we used sampled covariates to simulate each round of the 2015 Tournament. Winners from previous rounds are used to simulate subsequent rounds (i.e., we do not use real-life outcomes to select matchups for any round after the first), allowing us to estimate how far any team *could have* progressed in the tournament. Our initial simulation method applied each sampled logistic regression model to each matchup and declared the winner to be the team with the highest probability of winning (i.e., that team with probability greater than 0.5). That works decently for evently-matched teams, but performs poorly when estimating win probability for significant underdogs, who should win *sometimes* against statistically superior opponents. To fix this, we treated each game as a Bernoulli trial; we used the logistic regression model output (a probability) to parameterize its distribution and draw randomly from it using SciPy."
   ]
  },
  {
   "cell_type": "markdown",
   "metadata": {},
   "source": [
    "### Results"
   ]
  },
  {
   "cell_type": "markdown",
   "metadata": {},
   "source": [
    "Our simulations showed the following teams to be the most likely to advance deep in the tournament: Kentucky, Villanova, Wisconsin, Duke, Virginia, Arizona, and Gonzaga. These rates pass a simple test of believability, as those teams were generally regarded as the best in the tournament. And with two major exceptions (discussed further below), these teams *did* perform well in the tournament.\n",
    "\n",
    "Overall team success is summarized in the table below. Teams at the top won the most games in the actual tournament; i.e., Duke won the tournament and the bottom 32 teams were eliminated in the first round. Percentages represent the portion of simulations in which each team won in that round. <span style=\"color: green\">Green percentages</span> show rounds where teams *won*; <span style=\"color: red\">red percentages</span> show rounds where they *lost*. For example, Duke's <span style=\"color: green\">98%</span> in the upper left indicates that they won in the first round in 98% of simulations; the green color indicates that they won that game in real life. The table is scrollable; scroll down to see more results."
   ]
  },
  {
   "cell_type": "markdown",
   "metadata": {},
   "source": [
    "<div style=\"max-height:500px;max-width:1500px;overflow:auto;\">\n",
    "<table>\n",
    "    <thead>\n",
    "        <tr style=\"text-align:center\">\n",
    "            <th style=\"text-align:right\">Team</th>\n",
    "            <th>Round of 64</th>\n",
    "            <th>Round of 32</th>\n",
    "            <th>Sweet Sixteen</th>\n",
    "            <th>Elite Eight</th>\n",
    "            <th>Final Four</th>\n",
    "            <th>NCAA Championship</th>\n",
    "        </tr>\n",
    "    </thead>\n",
    "    <tbody>\n",
    "        <tr><td style=\"text-align: right\"><small style=\"color:gray;font-size:.625em\">(1)</small> <strong>Duke</strong></td> <td style=\"text-align: center; color: green\"> 98% </td> <td style=\"text-align: center; color: green\"> 83% </td> <td style=\"text-align: center; color: green\"> 60% </td> <td style=\"text-align: center; color: green\"> 36% </td> <td style=\"text-align: center; color: green\"> 18% </td> <td style=\"text-align: center; color: green\"> 6.5% </td> </tr>\n",
    "        <tr><td style=\"text-align: right\"><small style=\"color:gray;font-size:.625em\">(1)</small> <strong>Wisconsin</strong></td> <td style=\"text-align: center; color: green\"> 98% </td> <td style=\"text-align: center; color: green\"> 89% </td> <td style=\"text-align: center; color: green\"> 75% </td> <td style=\"text-align: center; color: green\"> 49% </td> <td style=\"text-align: center; color: green\"> 25% </td> <td style=\"text-align: center; color: red\"> 16% </td> </tr>\n",
    "        <tr><td style=\"text-align: right\"><small style=\"color:gray;font-size:.625em\">(1)</small> <strong>Kentucky</strong></td> <td style=\"text-align: center; color: green\"> 100% </td> <td style=\"text-align: center; color: green\"> 94% </td> <td style=\"text-align: center; color: green\"> 88% </td> <td style=\"text-align: center; color: green\"> 74% </td> <td style=\"text-align: center; color: red\"> 48% </td> <td style=\"text-align: center; color: red\"> 35% </td> </tr>\n",
    "        <tr><td style=\"text-align: right\"><small style=\"color:gray;font-size:.625em\">(7)</small> <strong>Michigan St.</strong></td> <td style=\"text-align: center; color: green\"> 67% </td> <td style=\"text-align: center; color: green\"> 19% </td> <td style=\"text-align: center; color: green\"> 10% </td> <td style=\"text-align: center; color: green\"> 3.1% </td> <td style=\"text-align: center; color: red\"> 0.9% </td> <td style=\"text-align: center; color: red\"> 0.2% </td> </tr>\n",
    "        <tr><td style=\"text-align: right\"><small style=\"color:gray;font-size:.625em\">(2)</small> <strong>Arizona</strong></td> <td style=\"text-align: center; color: green\"> 99% </td> <td style=\"text-align: center; color: green\"> 84% </td> <td style=\"text-align: center; color: green\"> 69% </td> <td style=\"text-align: center; color: red\"> 37% </td> <td style=\"text-align: center; color: red\"> 17% </td> <td style=\"text-align: center; color: red\"> 10% </td> </tr>\n",
    "        <tr><td style=\"text-align: right\"><small style=\"color:gray;font-size:.625em\">(2)</small> <strong>Gonzaga</strong></td> <td style=\"text-align: center; color: green\"> 97% </td> <td style=\"text-align: center; color: green\"> 77% </td> <td style=\"text-align: center; color: green\"> 54% </td> <td style=\"text-align: center; color: red\"> 31% </td> <td style=\"text-align: center; color: red\"> 16% </td> <td style=\"text-align: center; color: red\"> 5.4% </td> </tr>\n",
    "        <tr><td style=\"text-align: right\"><small style=\"color:gray;font-size:.625em\">(4)</small> <strong>Louisville</strong></td> <td style=\"text-align: center; color: green\"> 80% </td> <td style=\"text-align: center; color: green\"> 32% </td> <td style=\"text-align: center; color: green\"> 7.1% </td> <td style=\"text-align: center; color: red\"> 2.3% </td> <td style=\"text-align: center; color: red\"> 0.7% </td> <td style=\"text-align: center; color: red\"> 0.2% </td> </tr>\n",
    "        <tr><td style=\"text-align: right\"><small style=\"color:gray;font-size:.625em\">(3)</small> <strong>Notre Dame</strong></td> <td style=\"text-align: center; color: green\"> 93% </td> <td style=\"text-align: center; color: green\"> 67% </td> <td style=\"text-align: center; color: green\"> 43% </td> <td style=\"text-align: center; color: red\"> 12% </td> <td style=\"text-align: center; color: red\"> 4.0% </td> <td style=\"text-align: center; color: red\"> 1.8% </td> </tr>\n",
    "        <tr><td style=\"text-align: right\"><small style=\"color:gray;font-size:.625em\">(4)</small> <strong>North Carolina</strong></td> <td style=\"text-align: center; color: green\"> 86% </td> <td style=\"text-align: center; color: green\"> 60% </td> <td style=\"text-align: center; color: red\"> 15% </td> <td style=\"text-align: center; color: red\"> 5.2% </td> <td style=\"text-align: center; color: red\"> 1.4% </td> <td style=\"text-align: center; color: red\"> 0.4% </td> </tr>\n",
    "        <tr><td style=\"text-align: right\"><small style=\"color:gray;font-size:.625em\">(8)</small> <strong>North Carolina St.</strong></td> <td style=\"text-align: center; color: green\"> 56% </td> <td style=\"text-align: center; color: green\"> 7.1% </td> <td style=\"text-align: center; color: red\"> 2.4% </td> <td style=\"text-align: center; color: red\"> 0.5% </td> <td style=\"text-align: center; color: red\"> 0.1% </td> <td style=\"text-align: center; color: red\"> &lt;0.1% </td> </tr>\n",
    "        <tr><td style=\"text-align: right\"><small style=\"color:gray;font-size:.625em\">(3)</small> <strong>Oklahoma</strong></td> <td style=\"text-align: center; color: green\"> 91% </td> <td style=\"text-align: center; color: green\"> 62% </td> <td style=\"text-align: center; color: red\"> 23% </td> <td style=\"text-align: center; color: red\"> 7.7% </td> <td style=\"text-align: center; color: red\"> 2.8% </td> <td style=\"text-align: center; color: red\"> 0.7% </td> </tr>\n",
    "        <tr><td style=\"text-align: right\"><small style=\"color:gray;font-size:.625em\">(11)</small> <strong>UCLA</strong></td> <td style=\"text-align: center; color: green\"> 35% </td> <td style=\"text-align: center; color: green\"> 10% </td> <td style=\"text-align: center; color: red\"> 2.2% </td> <td style=\"text-align: center; color: red\"> 0.5% </td> <td style=\"text-align: center; color: red\"> 0.1% </td> <td style=\"text-align: center; color: red\"> &lt;0.1% </td> </tr>\n",
    "        <tr><td style=\"text-align: right\"><small style=\"color:gray;font-size:.625em\">(5)</small> <strong>Utah</strong></td> <td style=\"text-align: center; color: green\"> 74% </td> <td style=\"text-align: center; color: green\"> 53% </td> <td style=\"text-align: center; color: red\"> 22% </td> <td style=\"text-align: center; color: red\"> 11% </td> <td style=\"text-align: center; color: red\"> 4.2% </td> <td style=\"text-align: center; color: red\"> 1.1% </td> </tr>\n",
    "        <tr><td style=\"text-align: right\"><small style=\"color:gray;font-size:.625em\">(5)</small> <strong>West Virginia</strong></td> <td style=\"text-align: center; color: green\"> 64% </td> <td style=\"text-align: center; color: green\"> 40% </td> <td style=\"text-align: center; color: red\"> 4.4% </td> <td style=\"text-align: center; color: red\"> 1.4% </td> <td style=\"text-align: center; color: red\"> 0.3% </td> <td style=\"text-align: center; color: red\"> 0.1% </td> </tr>\n",
    "        <tr><td style=\"text-align: right\"><small style=\"color:gray;font-size:.625em\">(7)</small> <strong>Wichita St.</strong></td> <td style=\"text-align: center; color: green\"> 72% </td> <td style=\"text-align: center; color: green\"> 40% </td> <td style=\"text-align: center; color: red\"> 19% </td> <td style=\"text-align: center; color: red\"> 3.9% </td> <td style=\"text-align: center; color: red\"> 1.1% </td> <td style=\"text-align: center; color: red\"> 0.4% </td> </tr>\n",
    "        <tr><td style=\"text-align: right\"><small style=\"color:gray;font-size:.625em\">(6)</small> <strong>Xavier</strong></td> <td style=\"text-align: center; color: green\"> 59% </td> <td style=\"text-align: center; color: green\"> 25% </td> <td style=\"text-align: center; color: red\"> 4.9% </td> <td style=\"text-align: center; color: red\"> 1.0% </td> <td style=\"text-align: center; color: red\"> 0.2% </td> <td style=\"text-align: center; color: red\"> &lt;0.1% </td> </tr>\n",
    "        <tr><td style=\"text-align: right\"><small style=\"color:gray;font-size:.625em\">(5)</small> <strong>Arkansas</strong></td> <td style=\"text-align: center; color: green\"> 79% </td> <td style=\"text-align: center; color: red\"> 32% </td> <td style=\"text-align: center; color: red\"> 5.4% </td> <td style=\"text-align: center; color: red\"> 1.3% </td> <td style=\"text-align: center; color: red\"> 0.2% </td> <td style=\"text-align: center; color: red\"> &lt;0.1% </td> </tr>\n",
    "        <tr><td style=\"text-align: right\"><small style=\"color:gray;font-size:.625em\">(6)</small> <strong>Butler</strong></td> <td style=\"text-align: center; color: green\"> 46% </td> <td style=\"text-align: center; color: red\"> 14% </td> <td style=\"text-align: center; color: red\"> 5.3% </td> <td style=\"text-align: center; color: red\"> 0.8% </td> <td style=\"text-align: center; color: red\"> 0.1% </td> <td style=\"text-align: center; color: red\"> &lt;0.1% </td> </tr>\n",
    "        <tr><td style=\"text-align: right\"><small style=\"color:gray;font-size:.625em\">(8)</small> <strong>Cincinnati</strong></td> <td style=\"text-align: center; color: green\"> 56% </td> <td style=\"text-align: center; color: red\"> 3.8% </td> <td style=\"text-align: center; color: red\"> 2.0% </td> <td style=\"text-align: center; color: red\"> 0.6% </td> <td style=\"text-align: center; color: red\"> 0.1% </td> <td style=\"text-align: center; color: red\"> &lt;0.1% </td> </tr>\n",
    "        <tr><td style=\"text-align: right\"><small style=\"color:gray;font-size:.625em\">(11)</small> <strong>Dayton</strong></td> <td style=\"text-align: center; color: green\"> 40% </td> <td style=\"text-align: center; color: red\"> 12% </td> <td style=\"text-align: center; color: red\"> 2.3% </td> <td style=\"text-align: center; color: red\"> 0.3% </td> <td style=\"text-align: center; color: red\"> &lt;0.1% </td> <td style=\"text-align: center; color: red\"> 0% </td> </tr>\n",
    "        <tr><td style=\"text-align: right\"><small style=\"color:gray;font-size:.625em\">(4)</small> <strong>Georgetown</strong></td> <td style=\"text-align: center; color: green\"> 85% </td> <td style=\"text-align: center; color: red\"> 33% </td> <td style=\"text-align: center; color: red\"> 9.1% </td> <td style=\"text-align: center; color: red\"> 2.8% </td> <td style=\"text-align: center; color: red\"> 0.8% </td> <td style=\"text-align: center; color: red\"> 0.1% </td> </tr>\n",
    "        <tr><td style=\"text-align: right\"><small style=\"color:gray;font-size:.625em\">(14)</small> <strong>Georgia St.</strong></td> <td style=\"text-align: center; color: green\"> 19% </td> <td style=\"text-align: center; color: red\"> 6.0% </td> <td style=\"text-align: center; color: red\"> 0.7% </td> <td style=\"text-align: center; color: red\"> 0.1% </td> <td style=\"text-align: center; color: red\"> &lt;0.1% </td> <td style=\"text-align: center; color: red\"> 0% </td> </tr>\n",
    "        <tr><td style=\"text-align: right\"><small style=\"color:gray;font-size:.625em\">(7)</small> <strong>Iowa</strong></td> <td style=\"text-align: center; color: green\"> 50% </td> <td style=\"text-align: center; color: red\"> 11% </td> <td style=\"text-align: center; color: red\"> 4.7% </td> <td style=\"text-align: center; color: red\"> 1.4% </td> <td style=\"text-align: center; color: red\"> 0.3% </td> <td style=\"text-align: center; color: red\"> 0.1% </td> </tr>\n",
    "        <tr><td style=\"text-align: right\"><small style=\"color:gray;font-size:.625em\">(2)</small> <strong>Kansas</strong></td> <td style=\"text-align: center; color: green\"> 87% </td> <td style=\"text-align: center; color: red\"> 48% </td> <td style=\"text-align: center; color: red\"> 22% </td> <td style=\"text-align: center; color: red\"> 4.6% </td> <td style=\"text-align: center; color: red\"> 1.2% </td> <td style=\"text-align: center; color: red\"> 0.4% </td> </tr>\n",
    "        <tr><td style=\"text-align: right\"><small style=\"color:gray;font-size:.625em\">(4)</small> <strong>Maryland</strong></td> <td style=\"text-align: center; color: green\"> 66% </td> <td style=\"text-align: center; color: red\"> 31% </td> <td style=\"text-align: center; color: red\"> 3.0% </td> <td style=\"text-align: center; color: red\"> 0.9% </td> <td style=\"text-align: center; color: red\"> 0.2% </td> <td style=\"text-align: center; color: red\"> &lt;0.1% </td> </tr>\n",
    "        <tr><td style=\"text-align: right\"><small style=\"color:gray;font-size:.625em\">(5)</small> <strong>Northern Iowa</strong></td> <td style=\"text-align: center; color: green\"> 89% </td> <td style=\"text-align: center; color: red\"> 62% </td> <td style=\"text-align: center; color: red\"> 19% </td> <td style=\"text-align: center; color: red\"> 8.0% </td> <td style=\"text-align: center; color: red\"> 3.2% </td> <td style=\"text-align: center; color: red\"> 0.8% </td> </tr>\n",
    "        <tr><td style=\"text-align: right\"><small style=\"color:gray;font-size:.625em\">(10)</small> <strong>Ohio St.</strong></td> <td style=\"text-align: center; color: green\"> 58% </td> <td style=\"text-align: center; color: red\"> 10% </td> <td style=\"text-align: center; color: red\"> 5.0% </td> <td style=\"text-align: center; color: red\"> 1.1% </td> <td style=\"text-align: center; color: red\"> 0.2% </td> <td style=\"text-align: center; color: red\"> 0.1% </td> </tr>\n",
    "        <tr><td style=\"text-align: right\"><small style=\"color:gray;font-size:.625em\">(8)</small> <strong>Oregon</strong></td> <td style=\"text-align: center; color: green\"> 50% </td> <td style=\"text-align: center; color: red\"> 5.1% </td> <td style=\"text-align: center; color: red\"> 1.8% </td> <td style=\"text-align: center; color: red\"> 0.3% </td> <td style=\"text-align: center; color: red\"> 0.1% </td> <td style=\"text-align: center; color: red\"> &lt;0.1% </td> </tr>\n",
    "        <tr><td style=\"text-align: right\"><small style=\"color:gray;font-size:.625em\">(8)</small> <strong>San Diego St.</strong></td> <td style=\"text-align: center; color: green\"> 52% </td> <td style=\"text-align: center; color: red\"> 10% </td> <td style=\"text-align: center; color: red\"> 3.6% </td> <td style=\"text-align: center; color: red\"> 1.0% </td> <td style=\"text-align: center; color: red\"> 0.3% </td> <td style=\"text-align: center; color: red\"> 0.1% </td> </tr>\n",
    "        <tr><td style=\"text-align: right\"><small style=\"color:gray;font-size:.625em\">(14)</small> <strong>UAB</strong></td> <td style=\"text-align: center; color: green\"> 7.6% </td> <td style=\"text-align: center; color: red\"> 1.3% </td> <td style=\"text-align: center; color: red\"> 0.1% </td> <td style=\"text-align: center; color: red\"> &lt;0.1% </td> <td style=\"text-align: center; color: red\"> 0% </td> <td style=\"text-align: center; color: red\"> 0% </td> </tr>\n",
    "        <tr><td style=\"text-align: right\"><small style=\"color:gray;font-size:.625em\">(1)</small> <strong>Villanova</strong></td> <td style=\"text-align: center; color: green\"> 98% </td> <td style=\"text-align: center; color: red\"> 88% </td> <td style=\"text-align: center; color: red\"> 70% </td> <td style=\"text-align: center; color: red\"> 47% </td> <td style=\"text-align: center; color: red\"> 30% </td> <td style=\"text-align: center; color: red\"> 13% </td> </tr>\n",
    "        <tr><td style=\"text-align: right\"><small style=\"color:gray;font-size:.625em\">(2)</small> <strong>Virginia</strong></td> <td style=\"text-align: center; color: green\"> 96% </td> <td style=\"text-align: center; color: red\"> 75% </td> <td style=\"text-align: center; color: red\"> 56% </td> <td style=\"text-align: center; color: red\"> 29% </td> <td style=\"text-align: center; color: red\"> 16% </td> <td style=\"text-align: center; color: red\"> 6.1% </td> </tr>\n",
    "        <tr><td style=\"text-align: right\"><small style=\"color:gray;font-size:.625em\">(14)</small> <strong>Albany</strong></td> <td style=\"text-align: center; color: red\"> 9.1% </td> <td style=\"text-align: center; color: red\"> 1.6% </td> <td style=\"text-align: center; color: red\"> 0.1% </td> <td style=\"text-align: center; color: red\"> 0% </td> <td style=\"text-align: center; color: red\"> 0% </td> <td style=\"text-align: center; color: red\"> 0% </td> </tr>\n",
    "        <tr><td style=\"text-align: right\"><small style=\"color:gray;font-size:.625em\">(3)</small> <strong>Baylor</strong></td> <td style=\"text-align: center; color: red\"> 81% </td> <td style=\"text-align: center; color: red\"> 55% </td> <td style=\"text-align: center; color: red\"> 16% </td> <td style=\"text-align: center; color: red\"> 4.5% </td> <td style=\"text-align: center; color: red\"> 1.1% </td> <td style=\"text-align: center; color: red\"> 0.4% </td> </tr>\n",
    "        <tr><td style=\"text-align: right\"><small style=\"color:gray;font-size:.625em\">(15)</small> <strong>Belmont</strong></td> <td style=\"text-align: center; color: red\"> 3.8% </td> <td style=\"text-align: center; color: red\"> 0.6% </td> <td style=\"text-align: center; color: red\"> 0.1% </td> <td style=\"text-align: center; color: red\"> &lt;0.1% </td> <td style=\"text-align: center; color: red\"> 0% </td> <td style=\"text-align: center; color: red\"> 0% </td> </tr>\n",
    "        <tr><td style=\"text-align: right\"><small style=\"color:gray;font-size:.625em\">(12)</small> <strong>Buffalo</strong></td> <td style=\"text-align: center; color: red\"> 36% </td> <td style=\"text-align: center; color: red\"> 17% </td> <td style=\"text-align: center; color: red\"> 1.2% </td> <td style=\"text-align: center; color: red\"> 0.3% </td> <td style=\"text-align: center; color: red\"> &lt;0.1% </td> <td style=\"text-align: center; color: red\"> &lt;0.1% </td> </tr>\n",
    "        <tr><td style=\"text-align: right\"><small style=\"color:gray;font-size:.625em\">(16)</small> <strong>Coastal Carolina</strong></td> <td style=\"text-align: center; color: red\"> 2.0% </td> <td style=\"text-align: center; color: red\"> 0.3% </td> <td style=\"text-align: center; color: red\"> 0.1% </td> <td style=\"text-align: center; color: red\"> &lt;0.1% </td> <td style=\"text-align: center; color: red\"> &lt;0.1% </td> <td style=\"text-align: center; color: red\"> 0% </td> </tr>\n",
    "        <tr><td style=\"text-align: right\"><small style=\"color:gray;font-size:.625em\">(10)</small> <strong>Davidson</strong></td> <td style=\"text-align: center; color: red\"> 50% </td> <td style=\"text-align: center; color: red\"> 12% </td> <td style=\"text-align: center; color: red\"> 4.5% </td> <td style=\"text-align: center; color: red\"> 1.2% </td> <td style=\"text-align: center; color: red\"> 0.3% </td> <td style=\"text-align: center; color: red\"> 0.1% </td> </tr>\n",
    "        <tr><td style=\"text-align: right\"><small style=\"color:gray;font-size:.625em\">(13)</small> <strong>Eastern Washington</strong></td> <td style=\"text-align: center; color: red\"> 15% </td> <td style=\"text-align: center; color: red\"> 1.6% </td> <td style=\"text-align: center; color: red\"> 0.2% </td> <td style=\"text-align: center; color: red\"> &lt;0.1% </td> <td style=\"text-align: center; color: red\"> &lt;0.1% </td> <td style=\"text-align: center; color: red\"> 0% </td> </tr>\n",
    "        <tr><td style=\"text-align: right\"><small style=\"color:gray;font-size:.625em\">(10)</small> <strong>Georgia</strong></td> <td style=\"text-align: center; color: red\"> 33% </td> <td style=\"text-align: center; color: red\"> 5.5% </td> <td style=\"text-align: center; color: red\"> 2.0% </td> <td style=\"text-align: center; color: red\"> 0.3% </td> <td style=\"text-align: center; color: red\"> 0.1% </td> <td style=\"text-align: center; color: red\"> &lt;0.1% </td> </tr>\n",
    "        <tr><td style=\"text-align: right\"><small style=\"color:gray;font-size:.625em\">(16)</small> <strong>Hampton</strong></td> <td style=\"text-align: center; color: red\"> 0.4% </td> <td style=\"text-align: center; color: red\"> &lt;0.1% </td> <td style=\"text-align: center; color: red\"> 0% </td> <td style=\"text-align: center; color: red\"> 0% </td> <td style=\"text-align: center; color: red\"> 0% </td> <td style=\"text-align: center; color: red\"> 0% </td> </tr>\n",
    "        <tr><td style=\"text-align: right\"><small style=\"color:gray;font-size:.625em\">(13)</small> <strong>Harvard</strong></td> <td style=\"text-align: center; color: red\"> 14% </td> <td style=\"text-align: center; color: red\"> 4.3% </td> <td style=\"text-align: center; color: red\"> 0.3% </td> <td style=\"text-align: center; color: red\"> &lt;0.1% </td> <td style=\"text-align: center; color: red\"> 0% </td> <td style=\"text-align: center; color: red\"> 0% </td> </tr>\n",
    "        <tr><td style=\"text-align: right\"><small style=\"color:gray;font-size:.625em\">(10)</small> <strong>Indiana</strong></td> <td style=\"text-align: center; color: red\"> 28% </td> <td style=\"text-align: center; color: red\"> 10% </td> <td style=\"text-align: center; color: red\"> 2.9% </td> <td style=\"text-align: center; color: red\"> 0.4% </td> <td style=\"text-align: center; color: red\"> 0.1% </td> <td style=\"text-align: center; color: red\"> 0% </td> </tr>\n",
    "        <tr><td style=\"text-align: right\"><small style=\"color:gray;font-size:.625em\">(3)</small> <strong>Iowa St.</strong></td> <td style=\"text-align: center; color: red\"> 92% </td> <td style=\"text-align: center; color: red\"> 63% </td> <td style=\"text-align: center; color: red\"> 27% </td> <td style=\"text-align: center; color: red\"> 12% </td> <td style=\"text-align: center; color: red\"> 4.4% </td> <td style=\"text-align: center; color: red\"> 1.0% </td> </tr>\n",
    "        <tr><td style=\"text-align: right\"><small style=\"color:gray;font-size:.625em\">(9)</small> <strong>LSU</strong></td> <td style=\"text-align: center; color: red\"> 44% </td> <td style=\"text-align: center; color: red\"> 4.8% </td> <td style=\"text-align: center; color: red\"> 1.5% </td> <td style=\"text-align: center; color: red\"> 0.3% </td> <td style=\"text-align: center; color: red\"> &lt;0.1% </td> <td style=\"text-align: center; color: red\"> 0% </td> </tr>\n",
    "        <tr><td style=\"text-align: right\"><small style=\"color:gray;font-size:.625em\">(16)</small> <strong>Lafayette</strong></td> <td style=\"text-align: center; color: red\"> 1.7% </td> <td style=\"text-align: center; color: red\"> 0.2% </td> <td style=\"text-align: center; color: red\"> 0.1% </td> <td style=\"text-align: center; color: red\"> &lt;0.1% </td> <td style=\"text-align: center; color: red\"> 0% </td> <td style=\"text-align: center; color: red\"> 0% </td> </tr>\n",
    "        <tr><td style=\"text-align: right\"><small style=\"color:gray;font-size:.625em\">(11)</small> <strong>Mississippi</strong></td> <td style=\"text-align: center; color: red\"> 41% </td> <td style=\"text-align: center; color: red\"> 14% </td> <td style=\"text-align: center; color: red\"> 2.4% </td> <td style=\"text-align: center; color: red\"> 0.4% </td> <td style=\"text-align: center; color: red\"> 0.1% </td> <td style=\"text-align: center; color: red\"> &lt;0.1% </td> </tr>\n",
    "        <tr><td style=\"text-align: right\"><small style=\"color:gray;font-size:.625em\">(15)</small> <strong>New Mexico St.</strong></td> <td style=\"text-align: center; color: red\"> 13% </td> <td style=\"text-align: center; color: red\"> 2.1% </td> <td style=\"text-align: center; color: red\"> 0.3% </td> <td style=\"text-align: center; color: red\"> &lt;0.1% </td> <td style=\"text-align: center; color: red\"> 0% </td> <td style=\"text-align: center; color: red\"> 0% </td> </tr>\n",
    "        <tr><td style=\"text-align: right\"><small style=\"color:gray;font-size:.625em\">(15)</small> <strong>North Dakota St.</strong></td> <td style=\"text-align: center; color: red\"> 3.0% </td> <td style=\"text-align: center; color: red\"> 0.4% </td> <td style=\"text-align: center; color: red\"> &lt;0.1% </td> <td style=\"text-align: center; color: red\"> &lt;0.1% </td> <td style=\"text-align: center; color: red\"> 0% </td> <td style=\"text-align: center; color: red\"> 0% </td> </tr>\n",
    "        <tr><td style=\"text-align: right\"><small style=\"color:gray;font-size:.625em\">(14)</small> <strong>Northeastern</strong></td> <td style=\"text-align: center; color: red\"> 6.8% </td> <td style=\"text-align: center; color: red\"> 1.1% </td> <td style=\"text-align: center; color: red\"> 0.2% </td> <td style=\"text-align: center; color: red\"> &lt;0.1% </td> <td style=\"text-align: center; color: red\"> 0% </td> <td style=\"text-align: center; color: red\"> 0% </td> </tr>\n",
    "        <tr><td style=\"text-align: right\"><small style=\"color:gray;font-size:.625em\">(9)</small> <strong>Oklahoma St.</strong></td> <td style=\"text-align: center; color: red\"> 50% </td> <td style=\"text-align: center; color: red\"> 5.2% </td> <td style=\"text-align: center; color: red\"> 1.8% </td> <td style=\"text-align: center; color: red\"> 0.4% </td> <td style=\"text-align: center; color: red\"> 0.1% </td> <td style=\"text-align: center; color: red\"> &lt;0.1% </td> </tr>\n",
    "        <tr><td style=\"text-align: right\"><small style=\"color:gray;font-size:.625em\">(6)</small> <strong>Providence</strong></td> <td style=\"text-align: center; color: red\"> 60% </td> <td style=\"text-align: center; color: red\"> 24% </td> <td style=\"text-align: center; color: red\"> 6.0% </td> <td style=\"text-align: center; color: red\"> 1.4% </td> <td style=\"text-align: center; color: red\"> 0.4% </td> <td style=\"text-align: center; color: red\"> 0.1% </td> </tr>\n",
    "        <tr><td style=\"text-align: right\"><small style=\"color:gray;font-size:.625em\">(9)</small> <strong>Purdue</strong></td> <td style=\"text-align: center; color: red\"> 44% </td> <td style=\"text-align: center; color: red\"> 2.2% </td> <td style=\"text-align: center; color: red\"> 0.9% </td> <td style=\"text-align: center; color: red\"> 0.2% </td> <td style=\"text-align: center; color: red\"> &lt;0.1% </td> <td style=\"text-align: center; color: red\"> &lt;0.1% </td> </tr>\n",
    "        <tr><td style=\"text-align: right\"><small style=\"color:gray;font-size:.625em\">(16)</small> <strong>Robert Morris</strong></td> <td style=\"text-align: center; color: red\"> 2.1% </td> <td style=\"text-align: center; color: red\"> 0.2% </td> <td style=\"text-align: center; color: red\"> &lt;0.1% </td> <td style=\"text-align: center; color: red\"> &lt;0.1% </td> <td style=\"text-align: center; color: red\"> 0% </td> <td style=\"text-align: center; color: red\"> 0% </td> </tr>\n",
    "        <tr><td style=\"text-align: right\"><small style=\"color:gray;font-size:.625em\">(6)</small> <strong>SMU</strong></td> <td style=\"text-align: center; color: red\"> 65% </td> <td style=\"text-align: center; color: red\"> 26% </td> <td style=\"text-align: center; color: red\"> 8.0% </td> <td style=\"text-align: center; color: red\"> 2.6% </td> <td style=\"text-align: center; color: red\"> 0.6% </td> <td style=\"text-align: center; color: red\"> 0.1% </td> </tr>\n",
    "        <tr><td style=\"text-align: right\"><small style=\"color:gray;font-size:.625em\">(9)</small> <strong>St. John's</strong></td> <td style=\"text-align: center; color: red\"> 48% </td> <td style=\"text-align: center; color: red\"> 6.8% </td> <td style=\"text-align: center; color: red\"> 2.1% </td> <td style=\"text-align: center; color: red\"> 0.4% </td> <td style=\"text-align: center; color: red\"> 0.1% </td> <td style=\"text-align: center; color: red\"> &lt;0.1% </td> </tr>\n",
    "        <tr><td style=\"text-align: right\"><small style=\"color:gray;font-size:.625em\">(12)</small> <strong>Stephen F. Austin</strong></td> <td style=\"text-align: center; color: red\"> 26% </td> <td style=\"text-align: center; color: red\"> 12% </td> <td style=\"text-align: center; color: red\"> 2.8% </td> <td style=\"text-align: center; color: red\"> 0.7% </td> <td style=\"text-align: center; color: red\"> 0.2% </td> <td style=\"text-align: center; color: red\"> &lt;0.1% </td> </tr>\n",
    "        <tr><td style=\"text-align: right\"><small style=\"color:gray;font-size:.625em\">(11)</small> <strong>Texas</strong></td> <td style=\"text-align: center; color: red\"> 54% </td> <td style=\"text-align: center; color: red\"> 18% </td> <td style=\"text-align: center; color: red\"> 7.5% </td> <td style=\"text-align: center; color: red\"> 1.2% </td> <td style=\"text-align: center; color: red\"> 0.2% </td> <td style=\"text-align: center; color: red\"> 0.1% </td> </tr>\n",
    "        <tr><td style=\"text-align: right\"><small style=\"color:gray;font-size:.625em\">(15)</small> <strong>Texas Southern</strong></td> <td style=\"text-align: center; color: red\"> 1.2% </td> <td style=\"text-align: center; color: red\"> 0.1% </td> <td style=\"text-align: center; color: red\"> &lt;0.1% </td> <td style=\"text-align: center; color: red\"> &lt;0.1% </td> <td style=\"text-align: center; color: red\"> 0% </td> <td style=\"text-align: center; color: red\"> 0% </td> </tr>\n",
    "        <tr><td style=\"text-align: right\"><small style=\"color:gray;font-size:.625em\">(13)</small> <strong>UC Irvine</strong></td> <td style=\"text-align: center; color: red\"> 20% </td> <td style=\"text-align: center; color: red\"> 3.3% </td> <td style=\"text-align: center; color: red\"> 0.2% </td> <td style=\"text-align: center; color: red\"> &lt;0.1% </td> <td style=\"text-align: center; color: red\"> &lt;0.1% </td> <td style=\"text-align: center; color: red\"> 0% </td> </tr>\n",
    "        <tr><td style=\"text-align: right\"><small style=\"color:gray;font-size:.625em\">(7)</small> <strong>VCU</strong></td> <td style=\"text-align: center; color: red\"> 42% </td> <td style=\"text-align: center; color: red\"> 5.5% </td> <td style=\"text-align: center; color: red\"> 2.1% </td> <td style=\"text-align: center; color: red\"> 0.4% </td> <td style=\"text-align: center; color: red\"> 0.1% </td> <td style=\"text-align: center; color: red\"> &lt;0.1% </td> </tr>\n",
    "        <tr><td style=\"text-align: right\"><small style=\"color:gray;font-size:.625em\">(13)</small> <strong>Valparaiso</strong></td> <td style=\"text-align: center; color: red\"> 34% </td> <td style=\"text-align: center; color: red\"> 11% </td> <td style=\"text-align: center; color: red\"> 0.7% </td> <td style=\"text-align: center; color: red\"> 0.2% </td> <td style=\"text-align: center; color: red\"> &lt;0.1% </td> <td style=\"text-align: center; color: red\"> 0% </td> </tr>\n",
    "        <tr><td style=\"text-align: right\"><small style=\"color:gray;font-size:.625em\">(12)</small> <strong>Wofford</strong></td> <td style=\"text-align: center; color: red\"> 21% </td> <td style=\"text-align: center; color: red\"> 3.6% </td> <td style=\"text-align: center; color: red\"> 0.2% </td> <td style=\"text-align: center; color: red\"> &lt;0.1% </td> <td style=\"text-align: center; color: red\"> 0% </td> <td style=\"text-align: center; color: red\"> 0% </td> </tr>\n",
    "        <tr><td style=\"text-align: right\"><small style=\"color:gray;font-size:.625em\">(12)</small> <strong>Wyoming</strong></td> <td style=\"text-align: center; color: red\"> 11% </td> <td style=\"text-align: center; color: red\"> 2.4% </td> <td style=\"text-align: center; color: red\"> 0.1% </td> <td style=\"text-align: center; color: red\"> &lt;0.1% </td> <td style=\"text-align: center; color: red\"> 0% </td> <td style=\"text-align: center; color: red\"> 0% </td> </tr>\n",
    "    </tbody>\n",
    "</table>\n",
    "</div>"
   ]
  },
  {
   "cell_type": "markdown",
   "metadata": {},
   "source": [
    "### Discussion"
   ]
  },
  {
   "cell_type": "markdown",
   "metadata": {},
   "source": [
    "Some results stand out:\n",
    "\n",
    "- With the exception of Michigan State, the actual Final Four teams were among the most probable to reach that round according to our model. Our model gave Michigan State very little at any round after the first.\n",
    "- We were clearly unable to foresee Virginia's and Villanova's early losses in the tournament. In our simulations, they advanced to the Sweet 16 75% and 88% of the time (respectively). The teams that beat them (Michigan State and North Carolina State) had correspondingly low probabilities of victory in our simulations.\n",
    "- Based on pre-tournament data, Michigan State reaching the Final Four is the unlikeliest observed outcome in terms of our simulation. The numbers show that Tom Izzo (MSU's coach) is [known to outperform in the NCAA Tournament](http://fivethirtyeight.com/datalab/tom-izzo-michigan-state-coaching-final-four/). Adding a \"coached by Tom Izzo\" dummy variable may have been the single best thing we could have done to improve our model.\n",
    "- The University of Alabama-Birmingham's upset of Iowa State was the biggest upset in terms of our simulation prediction.\n",
    "- Lowly Harvard had little chance against North Carolina, let alone potential later tournament matchups. They did, however, manage to make the Final Four 4 times in our simulation (0.2% of the time).\n",
    "\n",
    "Ultimately, our simulations proved satisfying in some regards and less so in others. The latter cases illustrate the *Madness* of March: in a big enough tournament field, even the unlikeliest team has a chance to prevail. The [1998 women's Crimson-Cardinal matchup](http://sports.espn.go.com/espn/wire?id=3300407) shows that anything can happen.\n",
    "\n",
    "Certain tournament rounds are particularly interesting for analysis: the Final Four and championship game. We were interested in how our model would perform when predicting the *actual* Final Four (Kentucky, Wisconsin, Michigan State, and Duke), as well as Duke's besting of Wisconsin in the championship game. As only a small number of our simulations from above might actually feature these matchups, we opted to re-simulate both rounds using our entire posterior sample.\n",
    "\n",
    "As expected, even when Michigan State had reached the Final Four, its chances of advancing to—or winning—the championship were remote. According to our model, Duke's real-life victory was not a surprise. However, our model predicted a Kentucky victory over Wisconsin, and that either of those two teams would defeat Duke. Wisconsin's victory over Kentucky and Duke's win in the championship was therefore the unlikeliest of all outcomes that featured a Michigan State loss. Simulating the actual championship matchup, Wisconsin beat Duke 65% of the time in our simulations."
   ]
  }
 ],
 "metadata": {
  "kernelspec": {
   "display_name": "Python 2",
   "language": "python",
   "name": "python2"
  },
  "language_info": {
   "codemirror_mode": {
    "name": "ipython",
    "version": 2
   },
   "file_extension": ".py",
   "mimetype": "text/x-python",
   "name": "python",
   "nbconvert_exporter": "python",
   "pygments_lexer": "ipython2",
   "version": "2.7.6"
  }
 },
 "nbformat": 4,
 "nbformat_minor": 0
}
