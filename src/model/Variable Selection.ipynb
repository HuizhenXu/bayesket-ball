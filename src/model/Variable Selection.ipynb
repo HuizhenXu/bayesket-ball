{
 "cells": [
  {
   "cell_type": "code",
   "execution_count": 14,
   "metadata": {
    "collapsed": true
   },
   "outputs": [],
   "source": [
    "### Libraries.\n",
    "import matplotlib, matplotlib.pyplot as plt\n",
    "import numpy  as np\n",
    "import pandas as pd\n",
    "import pymc\n",
    "% matplotlib inline\n",
    "import seaborn as sns\n",
    "sns.set_style('white')\n",
    "from sklearn.cross_validation import KFold"
   ]
  },
  {
   "cell_type": "code",
   "execution_count": 3,
   "metadata": {
    "collapsed": true
   },
   "outputs": [],
   "source": [
    "# Games path.\n",
    "games_path = 'Data/games.csv'\n",
    "# Read games.\n",
    "games = pd.read_csv(games_path)\n",
    "# Trim to single group.\n",
    "games = games[games.game_group == 1].reset_index(drop=True)\n",
    "# 2014 games.\n",
    "games_2014 = games[games.year == 2014].reset_index(drop=True)"
   ]
  },
  {
   "cell_type": "code",
   "execution_count": 4,
   "metadata": {
    "collapsed": true
   },
   "outputs": [],
   "source": [
    "\"\"\"\n",
    "Inputs:\n",
    "    data: \n",
    "    features: \n",
    "    coef_dists: \n",
    "    b0_params: \n",
    "    err_params:\n",
    "    default_coef_dist: Coefficient distributions.\n",
    "    default_coef_params: Coefficient distribution parameters.\n",
    "    step_method: MCMC stepping method.\n",
    "    step_method_params: Parameters for stepping method. \n",
    "\"\"\"\n",
    "def model_games (\n",
    "    data=games,\n",
    "    features=['team_Pythag'],\n",
    "    coef_dists=None,\n",
    "    b0_params={'mu':0, 'tau':0.0003, 'value':0},\n",
    "    err_params=[.5],\n",
    "    default_coef_dist = pymc.Normal,\n",
    "    default_coef_params = {'mu':0, 'tau':0.0003, 'value':0},\n",
    "    step_method = pymc.Metropolis,\n",
    "    step_method_params = {'proposal_sd':1., 'proposal_distribution':'Normal'}\n",
    "):\n",
    "    \n",
    "    # Define priors on intercept and error. PyMC uses precision (inverse variance).\n",
    "    b0 = pymc.Normal('b_0', **b0_params)\n",
    "    err = pymc.Bernoulli('err', *err_params)\n",
    "    \n",
    "    # Containers for coefficients and data.\n",
    "    b = np.empty(len(features), dtype=object)\n",
    "    x = np.empty(len(features), dtype=object)\n",
    "    \n",
    "    # Traverse features.\n",
    "    for i, f in enumerate(features):\n",
    "        # Coefficient.\n",
    "        # First start with the distribution. Use one if we've been given one; else use default.\n",
    "        coef_dist_type = default_coef_dist if coef_dists is None or coef_dists[i] is None or coef_dists[i][0] is None else coef_dists[i][0]\n",
    "        # Now handle parameters.\n",
    "        coef_dist_params = default_coef_params if coef_dists is None or coef_dists[i] is None or coef_dists[i][1] is None else coef_dists[i][1]\n",
    "        # Now actually create the coefficient distribution\n",
    "        b[i] = coef_dist_type('b_'+f, **coef_dist_params)\n",
    "        # Data distribution.\n",
    "        x[i] = pymc.Normal('x_'+f, 0, 1, value=np.array(data[f]), observed=True)\n",
    "    \n",
    "    # Logistic function.\n",
    "    @pymc.deterministic\n",
    "    def logistic(b0=b0, b=b, x=x):\n",
    "        return 1.0 / (1. + np.exp(-(b0 + b.dot(x))))\n",
    "\n",
    "    # Get outcome data.\n",
    "    y = np.array(data.win)\n",
    "    # Model outcome as a Bernoulli distribution.\n",
    "    y = pymc.Bernoulli('win', logistic, value=y, observed=True)\n",
    "    \n",
    "    # Define model, MCMC object.\n",
    "    model = pymc.Model([logistic, pymc.Container(b), err, pymc.Container(x), y])\n",
    "    mcmc  = pymc.MCMC(model)\n",
    "    \n",
    "    # Configure step methods.\n",
    "    for var in list(b)+[b0,err]:\n",
    "        mcmc.use_step_method(step_method, stochastic=var, **step_method_params)\n",
    "    \n",
    "    # Return MCMC object.\n",
    "    return mcmc"
   ]
  },
  {
   "cell_type": "code",
   "execution_count": 5,
   "metadata": {
    "collapsed": true
   },
   "outputs": [],
   "source": [
    "# Features.\n",
    "features = ['location_Home','diff_Tempo','diff_OE','diff_DE','diff_Pythag']\n",
    "model_mcmc = model_games(data=games_2014,features=features)"
   ]
  },
  {
   "cell_type": "code",
   "execution_count": 6,
   "metadata": {
    "collapsed": false
   },
   "outputs": [
    {
     "name": "stdout",
     "output_type": "stream",
     "text": [
      " [-----------------100%-----------------] 10000 of 10000 complete in 14.4 sec"
     ]
    }
   ],
   "source": [
    "model_mcmc.sample(10000,2000)"
   ]
  },
  {
   "cell_type": "code",
   "execution_count": 7,
   "metadata": {
    "collapsed": false
   },
   "outputs": [
    {
     "name": "stdout",
     "output_type": "stream",
     "text": [
      "-0.446862851864\n",
      "6.39136864289\n"
     ]
    }
   ],
   "source": [
    "print model_mcmc.trace('b_0')[:].mean()\n",
    "print model_mcmc.trace('b_diff_Pythag')[:].mean()"
   ]
  },
  {
   "cell_type": "code",
   "execution_count": 25,
   "metadata": {
    "collapsed": true
   },
   "outputs": [],
   "source": [
    "\"\"\"\n",
    "Inputs:\n",
    "    data:       Dataframe with game data.\n",
    "    model_mcmc: PyMC MCMC object.\n",
    "    features:   list of features in data dataframe.\n",
    "    method:     'pp' for posterior predictive, 'map' for single estimate using MAP.\n",
    "\"\"\"\n",
    "def predict_games(data, model_mcmc, features, method='pp'):\n",
    "    # Trace and feature length.\n",
    "    trace_len = model_mcmc.trace('b_0')[:].shape[0]\n",
    "    coef_samples = trace_len\n",
    "    feat_len  = len(features)+1\n",
    "    data_len  = len(data)\n",
    "    \n",
    "    # Get coefficients.\n",
    "    coefs = np.empty((trace_len,feat_len))\n",
    "    for f_i, f in enumerate(['0']+features):\n",
    "        coefs[:,f_i] = model_mcmc.trace('b_'+f)[:]\n",
    "    # Use MAP if we need to.\n",
    "    if method == 'map':\n",
    "        coefs = coefs.mean(axis=0).reshape((1,feat_len))\n",
    "        coef_samples = 1\n",
    "    \n",
    "    # Get design matrix.\n",
    "    X = np.ones((data_len,feat_len))\n",
    "    for f_i, f in enumerate(features):\n",
    "        X[:,f_i+1] = data.ix[:,f]\n",
    "    # Get wins.\n",
    "    y = np.array(data.win)\n",
    "    \n",
    "    # Logistic function for win calculation.\n",
    "    logistic = lambda s: 1 / (1+np.exp(-s))\n",
    "    \n",
    "    # Estimate wins. Start with a wins container.\n",
    "    y_hat_raw = np.zeros((coef_samples,data_len))\n",
    "    y_hat     = np.zeros((coef_samples,data_len), dtype=np.int)\n",
    "    # Traverse set of coefficients and assemble win estimates.\n",
    "    for c_i, c in enumerate(coefs):\n",
    "        y_hat_raw[c_i] = logistic((c.T*X).sum(axis=1))\n",
    "    # Tag wins/losses with comparison.\n",
    "    y_hat = (y_hat_raw >= .5).astype(np.int)\n",
    "    \n",
    "    # Compute accuracy by wins.\n",
    "    y_hat_accuracy = (y == y_hat).mean()\n",
    "    \n",
    "    return y_hat_raw, y_hat, y_hat_accuracy"
   ]
  },
  {
   "cell_type": "code",
   "execution_count": 40,
   "metadata": {
    "collapsed": false
   },
   "outputs": [],
   "source": [
    "# function to do cross validation\n",
    "def mcmc_xval(X, features, K):\n",
    "    scores = []\n",
    "    kf = KFold(len(X), 5,shuffle=True)\n",
    "    for train, test in kf:\n",
    "        X_train = X.ix[train]\n",
    "        X_test = X.ix[test]\n",
    "        model_mcmc = model_games(data=X_train,features=features)\n",
    "        model_mcmc.sample(10000,2000)\n",
    "        y_hat_raw, y_hat, y_hat_accuracy = predict_games(X_test, model_mcmc, features, 'pp')\n",
    "        scores.append(y_hat_accuracy)\n",
    "    return np.mean(np.array(scores))"
   ]
  },
  {
   "cell_type": "code",
   "execution_count": null,
   "metadata": {
    "collapsed": false
   },
   "outputs": [
    {
     "name": "stdout",
     "output_type": "stream",
     "text": [
      " [-----------      31%                  ] 3149 of 10000 complete in 4.0 secHalting at iteration  3180  of  10000\n",
      " [-----------------62%---               ] 6225 of 10000 complete in 8.0 sec"
     ]
    }
   ],
   "source": [
    "mcmc_xval(games_2014,features,5)"
   ]
  }
 ],
 "metadata": {
  "kernelspec": {
   "display_name": "Python 2",
   "language": "python",
   "name": "python2"
  },
  "language_info": {
   "codemirror_mode": {
    "name": "ipython",
    "version": 2
   },
   "file_extension": ".py",
   "mimetype": "text/x-python",
   "name": "python",
   "nbconvert_exporter": "python",
   "pygments_lexer": "ipython2",
   "version": "2.7.9"
  }
 },
 "nbformat": 4,
 "nbformat_minor": 0
}
