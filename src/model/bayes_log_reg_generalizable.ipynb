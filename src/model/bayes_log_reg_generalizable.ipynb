{
 "cells": [
  {
   "cell_type": "markdown",
   "metadata": {},
   "source": [
    "# Generalizable Bayesian Logistic Regression"
   ]
  },
  {
   "cell_type": "markdown",
   "metadata": {},
   "source": [
    "This notebook defines methods for easily specifying and generating Bayesian logistic regression models using our KenPom dataset. It aims to provide variable specification mechanisms and methods for testing and evaluating outcomes."
   ]
  },
  {
   "cell_type": "markdown",
   "metadata": {},
   "source": [
    "---\n",
    "## Setup"
   ]
  },
  {
   "cell_type": "markdown",
   "metadata": {},
   "source": [
    "This section defines required libraries and useful settings."
   ]
  },
  {
   "cell_type": "code",
   "execution_count": 1,
   "metadata": {
    "collapsed": true
   },
   "outputs": [],
   "source": [
    "### Libraries.\n",
    "import matplotlib, matplotlib.pyplot as plt\n",
    "import numpy  as np\n",
    "import pandas as pd\n",
    "import pymc"
   ]
  },
  {
   "cell_type": "code",
   "execution_count": 2,
   "metadata": {
    "collapsed": true
   },
   "outputs": [],
   "source": [
    "### Settings.\n",
    "\n",
    "# Visualization.\n",
    "% matplotlib inline\n",
    "\n",
    "### Path Settings.\n",
    "\n",
    "# Games path.\n",
    "games_path = '../../../data/games.csv'"
   ]
  },
  {
   "cell_type": "markdown",
   "metadata": {},
   "source": [
    "---\n",
    "## Data"
   ]
  },
  {
   "cell_type": "markdown",
   "metadata": {},
   "source": [
    "This section loads data, restricts us to a single \"group\" of games (eliminating duplicates), and previews it."
   ]
  },
  {
   "cell_type": "markdown",
   "metadata": {},
   "source": [
    "### Load"
   ]
  },
  {
   "cell_type": "code",
   "execution_count": 3,
   "metadata": {
    "collapsed": true
   },
   "outputs": [],
   "source": [
    "# Read games.\n",
    "games = pd.read_csv(games_path)\n",
    "# Trim to single group.\n",
    "games = games[games.game_group == 1]"
   ]
  },
  {
   "cell_type": "markdown",
   "metadata": {},
   "source": [
    "### Preview & Write Columns"
   ]
  },
  {
   "cell_type": "code",
   "execution_count": 4,
   "metadata": {
    "collapsed": false
   },
   "outputs": [
    {
     "data": {
      "text/html": [
       "<div style=\"max-height:1000px;max-width:1500px;overflow:auto;\">\n",
       "<table border=\"1\" class=\"dataframe\">\n",
       "  <thead>\n",
       "    <tr style=\"text-align: right;\">\n",
       "      <th></th>\n",
       "      <th>game_id</th>\n",
       "      <th>game_group</th>\n",
       "      <th>year</th>\n",
       "      <th>date</th>\n",
       "      <th>team</th>\n",
       "      <th>opponent</th>\n",
       "      <th>conference</th>\n",
       "      <th>conference_tournament</th>\n",
       "      <th>ncaa_tournament</th>\n",
       "      <th>other_tournament</th>\n",
       "      <th>...</th>\n",
       "      <th>ratio_RankAdjOE</th>\n",
       "      <th>ratio_DE</th>\n",
       "      <th>ratio_RankDE</th>\n",
       "      <th>ratio_AdjDE</th>\n",
       "      <th>ratio_RankAdjDE</th>\n",
       "      <th>ratio_Pythag</th>\n",
       "      <th>ratio_RankPythag</th>\n",
       "      <th>points_for</th>\n",
       "      <th>points_against</th>\n",
       "      <th>win</th>\n",
       "    </tr>\n",
       "  </thead>\n",
       "  <tbody>\n",
       "    <tr>\n",
       "      <th>0</th>\n",
       "      <td>20091109-albany-syracuse</td>\n",
       "      <td>1</td>\n",
       "      <td>2010</td>\n",
       "      <td>2009-11-09</td>\n",
       "      <td>Albany</td>\n",
       "      <td>Syracuse</td>\n",
       "      <td>0</td>\n",
       "      <td>0</td>\n",
       "      <td>0</td>\n",
       "      <td>0</td>\n",
       "      <td>...</td>\n",
       "      <td>29.000000</td>\n",
       "      <td>1.113412</td>\n",
       "      <td>7.757576</td>\n",
       "      <td>1.196081</td>\n",
       "      <td>15.650000</td>\n",
       "      <td>0.182429</td>\n",
       "      <td>75.250000</td>\n",
       "      <td>43</td>\n",
       "      <td>75</td>\n",
       "      <td>0</td>\n",
       "    </tr>\n",
       "    <tr>\n",
       "      <th>2</th>\n",
       "      <td>20091109-alcornst-ohiost</td>\n",
       "      <td>1</td>\n",
       "      <td>2010</td>\n",
       "      <td>2009-11-09</td>\n",
       "      <td>Alcorn St.</td>\n",
       "      <td>Ohio St.</td>\n",
       "      <td>0</td>\n",
       "      <td>0</td>\n",
       "      <td>0</td>\n",
       "      <td>0</td>\n",
       "      <td>...</td>\n",
       "      <td>43.250000</td>\n",
       "      <td>1.147086</td>\n",
       "      <td>8.885714</td>\n",
       "      <td>1.208579</td>\n",
       "      <td>11.366667</td>\n",
       "      <td>0.024073</td>\n",
       "      <td>49.428571</td>\n",
       "      <td>60</td>\n",
       "      <td>100</td>\n",
       "      <td>0</td>\n",
       "    </tr>\n",
       "    <tr>\n",
       "      <th>5</th>\n",
       "      <td>20091109-california-murrayst</td>\n",
       "      <td>1</td>\n",
       "      <td>2010</td>\n",
       "      <td>2009-11-09</td>\n",
       "      <td>California</td>\n",
       "      <td>Murray St.</td>\n",
       "      <td>0</td>\n",
       "      <td>0</td>\n",
       "      <td>0</td>\n",
       "      <td>0</td>\n",
       "      <td>...</td>\n",
       "      <td>0.066667</td>\n",
       "      <td>1.102373</td>\n",
       "      <td>27.000000</td>\n",
       "      <td>1.052743</td>\n",
       "      <td>3.060606</td>\n",
       "      <td>1.070869</td>\n",
       "      <td>0.444444</td>\n",
       "      <td>75</td>\n",
       "      <td>70</td>\n",
       "      <td>1</td>\n",
       "    </tr>\n",
       "    <tr>\n",
       "      <th>7</th>\n",
       "      <td>20091109-fiu-northcarolina</td>\n",
       "      <td>1</td>\n",
       "      <td>2010</td>\n",
       "      <td>2009-11-09</td>\n",
       "      <td>North Carolina</td>\n",
       "      <td>FIU</td>\n",
       "      <td>0</td>\n",
       "      <td>0</td>\n",
       "      <td>0</td>\n",
       "      <td>0</td>\n",
       "      <td>...</td>\n",
       "      <td>0.439655</td>\n",
       "      <td>0.887290</td>\n",
       "      <td>0.328402</td>\n",
       "      <td>0.846043</td>\n",
       "      <td>0.116766</td>\n",
       "      <td>4.437148</td>\n",
       "      <td>0.205387</td>\n",
       "      <td>88</td>\n",
       "      <td>72</td>\n",
       "      <td>1</td>\n",
       "    </tr>\n",
       "    <tr>\n",
       "      <th>9</th>\n",
       "      <td>20091111-california-detroit</td>\n",
       "      <td>1</td>\n",
       "      <td>2010</td>\n",
       "      <td>2009-11-11</td>\n",
       "      <td>Detroit</td>\n",
       "      <td>California</td>\n",
       "      <td>0</td>\n",
       "      <td>0</td>\n",
       "      <td>0</td>\n",
       "      <td>0</td>\n",
       "      <td>...</td>\n",
       "      <td>40.400000</td>\n",
       "      <td>0.966731</td>\n",
       "      <td>0.437037</td>\n",
       "      <td>0.965086</td>\n",
       "      <td>0.495050</td>\n",
       "      <td>0.695875</td>\n",
       "      <td>5.950000</td>\n",
       "      <td>61</td>\n",
       "      <td>95</td>\n",
       "      <td>0</td>\n",
       "    </tr>\n",
       "  </tbody>\n",
       "</table>\n",
       "<p>5 rows × 74 columns</p>\n",
       "</div>"
      ],
      "text/plain": [
       "                        game_id  game_group  year        date            team  \\\n",
       "0      20091109-albany-syracuse           1  2010  2009-11-09          Albany   \n",
       "2      20091109-alcornst-ohiost           1  2010  2009-11-09      Alcorn St.   \n",
       "5  20091109-california-murrayst           1  2010  2009-11-09      California   \n",
       "7    20091109-fiu-northcarolina           1  2010  2009-11-09  North Carolina   \n",
       "9   20091111-california-detroit           1  2010  2009-11-11         Detroit   \n",
       "\n",
       "     opponent  conference  conference_tournament  ncaa_tournament  \\\n",
       "0    Syracuse           0                      0                0   \n",
       "2    Ohio St.           0                      0                0   \n",
       "5  Murray St.           0                      0                0   \n",
       "7         FIU           0                      0                0   \n",
       "9  California           0                      0                0   \n",
       "\n",
       "   other_tournament ...   ratio_RankAdjOE  ratio_DE  ratio_RankDE  \\\n",
       "0                 0 ...         29.000000  1.113412      7.757576   \n",
       "2                 0 ...         43.250000  1.147086      8.885714   \n",
       "5                 0 ...          0.066667  1.102373     27.000000   \n",
       "7                 0 ...          0.439655  0.887290      0.328402   \n",
       "9                 0 ...         40.400000  0.966731      0.437037   \n",
       "\n",
       "   ratio_AdjDE  ratio_RankAdjDE  ratio_Pythag  ratio_RankPythag  points_for  \\\n",
       "0     1.196081        15.650000      0.182429         75.250000          43   \n",
       "2     1.208579        11.366667      0.024073         49.428571          60   \n",
       "5     1.052743         3.060606      1.070869          0.444444          75   \n",
       "7     0.846043         0.116766      4.437148          0.205387          88   \n",
       "9     0.965086         0.495050      0.695875          5.950000          61   \n",
       "\n",
       "   points_against  win  \n",
       "0              75    0  \n",
       "2             100    0  \n",
       "5              70    1  \n",
       "7              72    1  \n",
       "9              95    0  \n",
       "\n",
       "[5 rows x 74 columns]"
      ]
     },
     "execution_count": 4,
     "metadata": {},
     "output_type": "execute_result"
    }
   ],
   "source": [
    "games.head()"
   ]
  },
  {
   "cell_type": "code",
   "execution_count": 5,
   "metadata": {
    "collapsed": false
   },
   "outputs": [
    {
     "name": "stdout",
     "output_type": "stream",
     "text": [
      "game_id                game_group             year                   date                   team                  \n",
      "opponent               conference             conference_tournament  ncaa_tournament        other_tournament      \n",
      "location_Away          location_Home          location_Neutral       location_SemiAway      location_SemiHome     \n",
      "team_Tempo             team_RankTempo         team_AdjTempo          team_RankAdjTempo      team_OE               \n",
      "team_RankOE            team_AdjOE             team_RankAdjOE         team_DE                team_RankDE           \n",
      "team_AdjDE             team_RankAdjDE         team_Pythag            team_RankPythag        opponent_Tempo        \n",
      "opponent_RankTempo     opponent_AdjTempo      opponent_RankAdjTempo  opponent_OE            opponent_RankOE       \n",
      "opponent_AdjOE         opponent_RankAdjOE     opponent_DE            opponent_RankDE        opponent_AdjDE        \n",
      "opponent_RankAdjDE     opponent_Pythag        opponent_RankPythag    diff_Tempo             diff_RankTempo        \n",
      "diff_AdjTempo          diff_RankAdjTempo      diff_OE                diff_RankOE            diff_AdjOE            \n",
      "diff_RankAdjOE         diff_DE                diff_RankDE            diff_AdjDE             diff_RankAdjDE        \n",
      "diff_Pythag            diff_RankPythag        ratio_Tempo            ratio_RankTempo        ratio_AdjTempo        \n",
      "ratio_RankAdjTempo     ratio_OE               ratio_RankOE           ratio_AdjOE            ratio_RankAdjOE       \n",
      "ratio_DE               ratio_RankDE           ratio_AdjDE            ratio_RankAdjDE        ratio_Pythag          \n",
      "ratio_RankPythag       points_for             points_against         win                   \n"
     ]
    }
   ],
   "source": [
    "# Print columns. Make them pretty.\n",
    "for c_i, c in enumerate(games.columns):\n",
    "    if c_i > 0 and c_i % 5 == 0:\n",
    "        print\n",
    "    print c.ljust(22),"
   ]
  },
  {
   "cell_type": "markdown",
   "metadata": {},
   "source": [
    "---\n",
    "## Modeling Functions"
   ]
  },
  {
   "cell_type": "markdown",
   "metadata": {},
   "source": [
    "The functions defined here will perform actual modeling. They can be used to specify features and distributions."
   ]
  },
  {
   "cell_type": "code",
   "execution_count": 27,
   "metadata": {
    "collapsed": false
   },
   "outputs": [],
   "source": [
    "\"\"\"\n",
    "\n",
    "\"\"\"\n",
    "def model_games (\n",
    "    data=games,\n",
    "    features=['team_Pythag'],\n",
    "    coef_dists=None,\n",
    "    b0_params={'mu':0, 'tau':0.0003, 'value':0},\n",
    "    err_params=[.5],\n",
    "    default_coef_dist = pymc.Normal,\n",
    "    default_coef_params = {'mu':0, 'tau':0.0003, 'value':0},\n",
    "    step_method = pymc.Metropolis,\n",
    "    step_method_params = {'proposal_sd':1., 'proposal_distribution':'Normal'}\n",
    "):\n",
    "    \n",
    "    # Define priors on intercept and error. PyMC uses precision (inverse variance).\n",
    "    b0 = pymc.Normal('b_0', **b0_params)\n",
    "    err = pymc.Bernoulli('err', *err_params)\n",
    "    \n",
    "    # Containers for coefficients and data.\n",
    "    b = np.empty(len(features), dtype=object)\n",
    "    x = np.empty(len(features), dtype=object)\n",
    "    \n",
    "    # Traverse features.\n",
    "    for i, f in enumerate(features):\n",
    "        # Coefficient.\n",
    "        # First start with the distribution. Use one if we've been given one; else use default.\n",
    "        coef_dist_type = default_coef_dist if coef_dists is None or coef_dists[i] is None or coef_dists[i][0] is None else coef_dists[i][0]\n",
    "        # Now handle parameters.\n",
    "        coef_dist_params = default_coef_params if coef_dists is None or coef_dists[i] is None or coef_dists[i][1] is None else coef_dists[i][1]\n",
    "        # Now actually create the coefficient distribution\n",
    "        b[i] = coef_dist_type('b_'+f, **coef_dist_params)\n",
    "        # Data distribution.\n",
    "        x[i] = pymc.Normal('x_'+f, 0, 1, value=np.array(data[f]), observed=True)\n",
    "    \n",
    "    # Logistic function.\n",
    "    @pymc.deterministic\n",
    "    def logistic(b0=b0, b=b, x=x):\n",
    "        return 1.0 / (1. + np.exp(-(b0 + b.dot(x))))\n",
    "\n",
    "    # Get outcome data.\n",
    "    y = np.array(games.win)\n",
    "    # Model outcome as a Bernoulli distribution.\n",
    "    y = pymc.Bernoulli('win', logistic, value=y, observed=True)\n",
    "    \n",
    "    # Define model, MCMC object.\n",
    "    model = pymc.Model([logistic, pymc.Container(b), err, pymc.Container(x), y])\n",
    "    mcmc  = pymc.MCMC(model)\n",
    "    \n",
    "    # Configure step methods.\n",
    "    for var in list(b)+[b0,err]:\n",
    "        mcmc.use_step_method(step_method, stochastic=var, **step_method_params)\n",
    "    \n",
    "    # Return MCMC object.\n",
    "    return mcmc"
   ]
  },
  {
   "cell_type": "markdown",
   "metadata": {},
   "source": [
    "---\n",
    "### Uses"
   ]
  },
  {
   "cell_type": "markdown",
   "metadata": {},
   "source": [
    "Here are some simple uses of the modeling functions above."
   ]
  },
  {
   "cell_type": "code",
   "execution_count": 46,
   "metadata": {
    "collapsed": false
   },
   "outputs": [],
   "source": [
    "# Features.\n",
    "features = ['location_Home','diff_Tempo','diff_OE','diff_DE','diff_Pythag']\n",
    "model_mcmc = model_games(features=features)"
   ]
  },
  {
   "cell_type": "code",
   "execution_count": 47,
   "metadata": {
    "collapsed": false
   },
   "outputs": [
    {
     "name": "stdout",
     "output_type": "stream",
     "text": [
      " [-----------------100%-----------------] 10000 of 10000 complete in 86.1 sec"
     ]
    }
   ],
   "source": [
    "model_mcmc.sample(10000,2000)"
   ]
  },
  {
   "cell_type": "code",
   "execution_count": 61,
   "metadata": {
    "collapsed": false
   },
   "outputs": [
    {
     "name": "stdout",
     "output_type": "stream",
     "text": [
      "-0.523045979292\n",
      "5.74338163856\n"
     ]
    }
   ],
   "source": [
    "print model_mcmc.trace('b_0')[:].mean()\n",
    "print model_mcmc.trace('b_diff_Pythag')[:].mean()"
   ]
  }
 ],
 "metadata": {
  "kernelspec": {
   "display_name": "Python 2",
   "language": "python",
   "name": "python2"
  },
  "language_info": {
   "codemirror_mode": {
    "name": "ipython",
    "version": 2
   },
   "file_extension": ".py",
   "mimetype": "text/x-python",
   "name": "python",
   "nbconvert_exporter": "python",
   "pygments_lexer": "ipython2",
   "version": "2.7.6"
  }
 },
 "nbformat": 4,
 "nbformat_minor": 0
}
