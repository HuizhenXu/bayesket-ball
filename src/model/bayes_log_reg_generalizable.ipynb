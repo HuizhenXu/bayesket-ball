{
 "cells": [
  {
   "cell_type": "markdown",
   "metadata": {},
   "source": [
    "# Generalizable Bayesian Logistic Regression"
   ]
  },
  {
   "cell_type": "markdown",
   "metadata": {},
   "source": [
    "This notebook defines methods for easily specifying and generating Bayesian logistic regression models using our KenPom dataset. It aims to provide variable specification mechanisms and methods for testing and evaluating outcomes."
   ]
  },
  {
   "cell_type": "markdown",
   "metadata": {},
   "source": [
    "---\n",
    "## Setup"
   ]
  },
  {
   "cell_type": "markdown",
   "metadata": {},
   "source": [
    "This section defines required libraries and useful settings."
   ]
  },
  {
   "cell_type": "code",
   "execution_count": 1,
   "metadata": {
    "collapsed": true
   },
   "outputs": [],
   "source": [
    "### Libraries.\n",
    "import matplotlib, matplotlib.pyplot as plt\n",
    "import numpy  as np\n",
    "import pandas as pd\n",
    "import pymc"
   ]
  },
  {
   "cell_type": "code",
   "execution_count": 2,
   "metadata": {
    "collapsed": true
   },
   "outputs": [],
   "source": [
    "### Settings.\n",
    "\n",
    "# Visualization.\n",
    "% matplotlib inline\n",
    "\n",
    "### Path Settings.\n",
    "\n",
    "# Games path.\n",
    "games_path = '../../../data/games.csv'"
   ]
  },
  {
   "cell_type": "markdown",
   "metadata": {},
   "source": [
    "---\n",
    "## Data"
   ]
  },
  {
   "cell_type": "markdown",
   "metadata": {},
   "source": [
    "This section loads data, restricts us to a single \"group\" of games (eliminating duplicates), and previews it."
   ]
  },
  {
   "cell_type": "markdown",
   "metadata": {},
   "source": [
    "### Load"
   ]
  },
  {
   "cell_type": "code",
   "execution_count": 208,
   "metadata": {
    "collapsed": true
   },
   "outputs": [],
   "source": [
    "# Read games.\n",
    "games = pd.read_csv(games_path)\n",
    "# Trim to single group.\n",
    "games = games[games.game_group == 1].reset_index(drop=True)"
   ]
  },
  {
   "cell_type": "code",
   "execution_count": 222,
   "metadata": {
    "collapsed": true
   },
   "outputs": [],
   "source": [
    "# 2014 games.\n",
    "games_2014 = games[games.year == 2014].reset_index(drop=True)"
   ]
  },
  {
   "cell_type": "markdown",
   "metadata": {},
   "source": [
    "### Preview & Write Columns"
   ]
  },
  {
   "cell_type": "code",
   "execution_count": 209,
   "metadata": {
    "collapsed": false
   },
   "outputs": [
    {
     "data": {
      "text/html": [
       "<div style=\"max-height:1000px;max-width:1500px;overflow:auto;\">\n",
       "<table border=\"1\" class=\"dataframe\">\n",
       "  <thead>\n",
       "    <tr style=\"text-align: right;\">\n",
       "      <th></th>\n",
       "      <th>game_id</th>\n",
       "      <th>game_group</th>\n",
       "      <th>year</th>\n",
       "      <th>date</th>\n",
       "      <th>team</th>\n",
       "      <th>opponent</th>\n",
       "      <th>conference</th>\n",
       "      <th>conference_tournament</th>\n",
       "      <th>ncaa_tournament</th>\n",
       "      <th>other_tournament</th>\n",
       "      <th>...</th>\n",
       "      <th>ratio_RankAdjOE</th>\n",
       "      <th>ratio_DE</th>\n",
       "      <th>ratio_RankDE</th>\n",
       "      <th>ratio_AdjDE</th>\n",
       "      <th>ratio_RankAdjDE</th>\n",
       "      <th>ratio_Pythag</th>\n",
       "      <th>ratio_RankPythag</th>\n",
       "      <th>points_for</th>\n",
       "      <th>points_against</th>\n",
       "      <th>win</th>\n",
       "    </tr>\n",
       "  </thead>\n",
       "  <tbody>\n",
       "    <tr>\n",
       "      <th>0</th>\n",
       "      <td>20091109-albany-syracuse</td>\n",
       "      <td>1</td>\n",
       "      <td>2010</td>\n",
       "      <td>2009-11-09</td>\n",
       "      <td>Albany</td>\n",
       "      <td>Syracuse</td>\n",
       "      <td>0</td>\n",
       "      <td>0</td>\n",
       "      <td>0</td>\n",
       "      <td>0</td>\n",
       "      <td>...</td>\n",
       "      <td>29.000000</td>\n",
       "      <td>1.113412</td>\n",
       "      <td>7.757576</td>\n",
       "      <td>1.196081</td>\n",
       "      <td>15.650000</td>\n",
       "      <td>0.182429</td>\n",
       "      <td>75.250000</td>\n",
       "      <td>43</td>\n",
       "      <td>75</td>\n",
       "      <td>0</td>\n",
       "    </tr>\n",
       "    <tr>\n",
       "      <th>1</th>\n",
       "      <td>20091109-alcornst-ohiost</td>\n",
       "      <td>1</td>\n",
       "      <td>2010</td>\n",
       "      <td>2009-11-09</td>\n",
       "      <td>Alcorn St.</td>\n",
       "      <td>Ohio St.</td>\n",
       "      <td>0</td>\n",
       "      <td>0</td>\n",
       "      <td>0</td>\n",
       "      <td>0</td>\n",
       "      <td>...</td>\n",
       "      <td>43.250000</td>\n",
       "      <td>1.147086</td>\n",
       "      <td>8.885714</td>\n",
       "      <td>1.208579</td>\n",
       "      <td>11.366667</td>\n",
       "      <td>0.024073</td>\n",
       "      <td>49.428571</td>\n",
       "      <td>60</td>\n",
       "      <td>100</td>\n",
       "      <td>0</td>\n",
       "    </tr>\n",
       "    <tr>\n",
       "      <th>2</th>\n",
       "      <td>20091109-california-murrayst</td>\n",
       "      <td>1</td>\n",
       "      <td>2010</td>\n",
       "      <td>2009-11-09</td>\n",
       "      <td>California</td>\n",
       "      <td>Murray St.</td>\n",
       "      <td>0</td>\n",
       "      <td>0</td>\n",
       "      <td>0</td>\n",
       "      <td>0</td>\n",
       "      <td>...</td>\n",
       "      <td>0.066667</td>\n",
       "      <td>1.102373</td>\n",
       "      <td>27.000000</td>\n",
       "      <td>1.052743</td>\n",
       "      <td>3.060606</td>\n",
       "      <td>1.070869</td>\n",
       "      <td>0.444444</td>\n",
       "      <td>75</td>\n",
       "      <td>70</td>\n",
       "      <td>1</td>\n",
       "    </tr>\n",
       "    <tr>\n",
       "      <th>3</th>\n",
       "      <td>20091109-fiu-northcarolina</td>\n",
       "      <td>1</td>\n",
       "      <td>2010</td>\n",
       "      <td>2009-11-09</td>\n",
       "      <td>North Carolina</td>\n",
       "      <td>FIU</td>\n",
       "      <td>0</td>\n",
       "      <td>0</td>\n",
       "      <td>0</td>\n",
       "      <td>0</td>\n",
       "      <td>...</td>\n",
       "      <td>0.439655</td>\n",
       "      <td>0.887290</td>\n",
       "      <td>0.328402</td>\n",
       "      <td>0.846043</td>\n",
       "      <td>0.116766</td>\n",
       "      <td>4.437148</td>\n",
       "      <td>0.205387</td>\n",
       "      <td>88</td>\n",
       "      <td>72</td>\n",
       "      <td>1</td>\n",
       "    </tr>\n",
       "    <tr>\n",
       "      <th>4</th>\n",
       "      <td>20091111-california-detroit</td>\n",
       "      <td>1</td>\n",
       "      <td>2010</td>\n",
       "      <td>2009-11-11</td>\n",
       "      <td>Detroit</td>\n",
       "      <td>California</td>\n",
       "      <td>0</td>\n",
       "      <td>0</td>\n",
       "      <td>0</td>\n",
       "      <td>0</td>\n",
       "      <td>...</td>\n",
       "      <td>40.400000</td>\n",
       "      <td>0.966731</td>\n",
       "      <td>0.437037</td>\n",
       "      <td>0.965086</td>\n",
       "      <td>0.495050</td>\n",
       "      <td>0.695875</td>\n",
       "      <td>5.950000</td>\n",
       "      <td>61</td>\n",
       "      <td>95</td>\n",
       "      <td>0</td>\n",
       "    </tr>\n",
       "  </tbody>\n",
       "</table>\n",
       "<p>5 rows × 74 columns</p>\n",
       "</div>"
      ],
      "text/plain": [
       "                        game_id  game_group  year        date            team  \\\n",
       "0      20091109-albany-syracuse           1  2010  2009-11-09          Albany   \n",
       "1      20091109-alcornst-ohiost           1  2010  2009-11-09      Alcorn St.   \n",
       "2  20091109-california-murrayst           1  2010  2009-11-09      California   \n",
       "3    20091109-fiu-northcarolina           1  2010  2009-11-09  North Carolina   \n",
       "4   20091111-california-detroit           1  2010  2009-11-11         Detroit   \n",
       "\n",
       "     opponent  conference  conference_tournament  ncaa_tournament  \\\n",
       "0    Syracuse           0                      0                0   \n",
       "1    Ohio St.           0                      0                0   \n",
       "2  Murray St.           0                      0                0   \n",
       "3         FIU           0                      0                0   \n",
       "4  California           0                      0                0   \n",
       "\n",
       "   other_tournament ...   ratio_RankAdjOE  ratio_DE  ratio_RankDE  \\\n",
       "0                 0 ...         29.000000  1.113412      7.757576   \n",
       "1                 0 ...         43.250000  1.147086      8.885714   \n",
       "2                 0 ...          0.066667  1.102373     27.000000   \n",
       "3                 0 ...          0.439655  0.887290      0.328402   \n",
       "4                 0 ...         40.400000  0.966731      0.437037   \n",
       "\n",
       "   ratio_AdjDE  ratio_RankAdjDE  ratio_Pythag  ratio_RankPythag  points_for  \\\n",
       "0     1.196081        15.650000      0.182429         75.250000          43   \n",
       "1     1.208579        11.366667      0.024073         49.428571          60   \n",
       "2     1.052743         3.060606      1.070869          0.444444          75   \n",
       "3     0.846043         0.116766      4.437148          0.205387          88   \n",
       "4     0.965086         0.495050      0.695875          5.950000          61   \n",
       "\n",
       "   points_against  win  \n",
       "0              75    0  \n",
       "1             100    0  \n",
       "2              70    1  \n",
       "3              72    1  \n",
       "4              95    0  \n",
       "\n",
       "[5 rows x 74 columns]"
      ]
     },
     "execution_count": 209,
     "metadata": {},
     "output_type": "execute_result"
    }
   ],
   "source": [
    "games.head()"
   ]
  },
  {
   "cell_type": "code",
   "execution_count": 5,
   "metadata": {
    "collapsed": false
   },
   "outputs": [
    {
     "name": "stdout",
     "output_type": "stream",
     "text": [
      "game_id                game_group             year                   date                   team                  \n",
      "opponent               conference             conference_tournament  ncaa_tournament        other_tournament      \n",
      "location_Away          location_Home          location_Neutral       location_SemiAway      location_SemiHome     \n",
      "team_Tempo             team_RankTempo         team_AdjTempo          team_RankAdjTempo      team_OE               \n",
      "team_RankOE            team_AdjOE             team_RankAdjOE         team_DE                team_RankDE           \n",
      "team_AdjDE             team_RankAdjDE         team_Pythag            team_RankPythag        opponent_Tempo        \n",
      "opponent_RankTempo     opponent_AdjTempo      opponent_RankAdjTempo  opponent_OE            opponent_RankOE       \n",
      "opponent_AdjOE         opponent_RankAdjOE     opponent_DE            opponent_RankDE        opponent_AdjDE        \n",
      "opponent_RankAdjDE     opponent_Pythag        opponent_RankPythag    diff_Tempo             diff_RankTempo        \n",
      "diff_AdjTempo          diff_RankAdjTempo      diff_OE                diff_RankOE            diff_AdjOE            \n",
      "diff_RankAdjOE         diff_DE                diff_RankDE            diff_AdjDE             diff_RankAdjDE        \n",
      "diff_Pythag            diff_RankPythag        ratio_Tempo            ratio_RankTempo        ratio_AdjTempo        \n",
      "ratio_RankAdjTempo     ratio_OE               ratio_RankOE           ratio_AdjOE            ratio_RankAdjOE       \n",
      "ratio_DE               ratio_RankDE           ratio_AdjDE            ratio_RankAdjDE        ratio_Pythag          \n",
      "ratio_RankPythag       points_for             points_against         win                   \n"
     ]
    }
   ],
   "source": [
    "# Print columns. Make them pretty.\n",
    "for c_i, c in enumerate(games.columns):\n",
    "    if c_i > 0 and c_i % 5 == 0:\n",
    "        print\n",
    "    print c.ljust(22),"
   ]
  },
  {
   "cell_type": "markdown",
   "metadata": {},
   "source": [
    "---\n",
    "## Utility Functions"
   ]
  },
  {
   "cell_type": "code",
   "execution_count": null,
   "metadata": {
    "collapsed": true
   },
   "outputs": [],
   "source": [
    "# Taken from HW4 solutions\n",
    "# Geweke function\n",
    "def Geweke(trace, intervals, length):\n",
    "    # take two parts of the chain. \n",
    "    # subsample lenght \n",
    "    nsl=length\n",
    "    jump = int(0.9*len(trace)/(2*intervals))\n",
    "    first = 0.1*len(trace)\n",
    "    z =np.empty(intervals)\n",
    "    for k in np.arange(0, intervals):\n",
    "        # beg of each sub samples\n",
    "        bega=first+k*jump\n",
    "        begb = len(trace)/2 + k*jump\n",
    "        \n",
    "        sub_trace_a = trace[bega:bega+nsl]\n",
    "        sub_trace_b = trace[begb:begb+nsl]\n",
    "        \n",
    "        theta_a = np.mean(sub_trace_a)\n",
    "        theta_b = np.mean(sub_trace_b)\n",
    "        rho_a, rho_b = 1.0, 1.0\n",
    "        # only compute autocorrelation at lag 1-0.1*nsl.\n",
    "        for i in xrange(int(0.1*nsl)):\n",
    "            rho_a += 2*rhot(sub_trace_a, i+1)\n",
    "            rho_b += 2*rhot(sub_trace_b, i+1)\n",
    "            \n",
    "        # estimate the variance roughly\n",
    "        var_a  = np.var(sub_trace_a)*rho_a/length\n",
    "        var_b  = np.var(sub_trace_b)*rho_b/length\n",
    "        \n",
    "        z[k] = (theta_a-theta_b)/np.sqrt( var_a + var_b)\n",
    "    \n",
    "    return z"
   ]
  },
  {
   "cell_type": "code",
   "execution_count": null,
   "metadata": {
    "collapsed": true
   },
   "outputs": [],
   "source": [
    "# Taken from lab4\n",
    "def rhot(x, t):\n",
    "    n = len(x)\n",
    "    return np.corrcoef(x[0:(n-t)], x[t:n])[0,1]\n",
    "\n",
    "def neff(x, T):\n",
    "    n = len(x)\n",
    "    rho = 1.0\n",
    "    for i in xrange(T):\n",
    "        rho += 2*rhot(x, i+1)\n",
    "    return n/rho"
   ]
  },
  {
   "cell_type": "code",
   "execution_count": null,
   "metadata": {
    "collapsed": true
   },
   "outputs": [],
   "source": [
    "def plot_Geweke(model_mcmc, features):\n",
    "    plt.figure(figsize=[15,5])\n",
    "    for feature in features:\n",
    "        geweke_MC = Geweke(model_mcmc.trace(\"b_\"+feature)[:], 10, 1000)\n",
    "        plt.plot(geweke_MC, label=feature)\n",
    "    plt.axhline(y=2,color = 'k')\n",
    "    plt.axhline(y=-2,color = 'k')\n",
    "\n",
    "    plt.legend()\n",
    "    plt.show()"
   ]
  },
  {
   "cell_type": "markdown",
   "metadata": {},
   "source": [
    "---\n",
    "## Modeling Functions"
   ]
  },
  {
   "cell_type": "markdown",
   "metadata": {},
   "source": [
    "The functions defined here will perform actual modeling. They can be used to specify features and distributions."
   ]
  },
  {
   "cell_type": "code",
   "execution_count": 225,
   "metadata": {
    "collapsed": false
   },
   "outputs": [],
   "source": [
    "\"\"\"\n",
    "Inputs:\n",
    "    data: \n",
    "    features: \n",
    "    coef_dists: \n",
    "    b0_params: \n",
    "    err_params:\n",
    "    default_coef_dist: Coefficient distributions.\n",
    "    default_coef_params: Coefficient distribution parameters.\n",
    "    step_method: MCMC stepping method.\n",
    "    step_method_params: Parameters for stepping method. \n",
    "\"\"\"\n",
    "def model_games (\n",
    "    data=games,\n",
    "    features=['team_Pythag'],\n",
    "    coef_dists=None,\n",
    "    b0_params={'mu':0, 'tau':0.0003, 'value':0},\n",
    "    err_params=[.5],\n",
    "    default_coef_dist = pymc.Normal,\n",
    "    default_coef_params = {'mu':0, 'tau':0.0003, 'value':0},\n",
    "    step_method = pymc.Metropolis,\n",
    "    step_method_params = {'proposal_sd':1., 'proposal_distribution':'Normal'}\n",
    "):\n",
    "    \n",
    "    # Define priors on intercept and error. PyMC uses precision (inverse variance).\n",
    "    b0 = pymc.Normal('b_0', **b0_params)\n",
    "    err = pymc.Bernoulli('err', *err_params)\n",
    "    \n",
    "    # Containers for coefficients and data.\n",
    "    b = np.empty(len(features), dtype=object)\n",
    "    x = np.empty(len(features), dtype=object)\n",
    "    \n",
    "    # Traverse features.\n",
    "    for i, f in enumerate(features):\n",
    "        # Coefficient.\n",
    "        # First start with the distribution. Use one if we've been given one; else use default.\n",
    "        coef_dist_type = default_coef_dist if coef_dists is None or coef_dists[i] is None or coef_dists[i][0] is None else coef_dists[i][0]\n",
    "        # Now handle parameters.\n",
    "        coef_dist_params = default_coef_params if coef_dists is None or coef_dists[i] is None or coef_dists[i][1] is None else coef_dists[i][1]\n",
    "        # Now actually create the coefficient distribution\n",
    "        b[i] = coef_dist_type('b_'+f, **coef_dist_params)\n",
    "        # Data distribution.\n",
    "        x[i] = pymc.Normal('x_'+f, 0, 1, value=np.array(data[f]), observed=True)\n",
    "    \n",
    "    # Logistic function.\n",
    "    @pymc.deterministic\n",
    "    def logistic(b0=b0, b=b, x=x):\n",
    "        return 1.0 / (1. + np.exp(-(b0 + b.dot(x))))\n",
    "\n",
    "    # Get outcome data.\n",
    "    y = np.array(data.win)\n",
    "    # Model outcome as a Bernoulli distribution.\n",
    "    y = pymc.Bernoulli('win', logistic, value=y, observed=True)\n",
    "    \n",
    "    # Define model, MCMC object.\n",
    "    model = pymc.Model([logistic, pymc.Container(b), err, pymc.Container(x), y])\n",
    "    mcmc  = pymc.MCMC(model)\n",
    "    \n",
    "    # Configure step methods.\n",
    "    for var in list(b)+[b0,err]:\n",
    "        mcmc.use_step_method(step_method, stochastic=var, **step_method_params)\n",
    "    \n",
    "    # Return MCMC object.\n",
    "    return mcmc"
   ]
  },
  {
   "cell_type": "code",
   "execution_count": null,
   "metadata": {
    "collapsed": true
   },
   "outputs": [],
   "source": [
    "# Return the means of the pymc coefficients\n",
    "# model_mcmc: pymc model\n",
    "# features:   list of features in pymc\n",
    "def mcmc_trace_means(model_mcmc, features, printMeans = False):\n",
    "    means = []\n",
    "    for feature in features:\n",
    "        mean = model_mcmc.trace(\"b_\"+feature)[:].mean()\n",
    "        if printMeans:\n",
    "            print \"b_\"+feature, mean\n",
    "        means.append(mean)\n",
    "    return np.array(means)"
   ]
  },
  {
   "cell_type": "markdown",
   "metadata": {},
   "source": [
    "---\n",
    "### Using"
   ]
  },
  {
   "cell_type": "markdown",
   "metadata": {},
   "source": [
    "Here are some simple uses of the modeling functions above."
   ]
  },
  {
   "cell_type": "code",
   "execution_count": 226,
   "metadata": {
    "collapsed": false
   },
   "outputs": [],
   "source": [
    "# Features.\n",
    "features = ['location_Home','diff_Tempo','diff_OE','diff_DE','diff_Pythag']\n",
    "model_mcmc = model_games(data=games_2014,features=features)"
   ]
  },
  {
   "cell_type": "code",
   "execution_count": 227,
   "metadata": {
    "collapsed": false
   },
   "outputs": [
    {
     "name": "stdout",
     "output_type": "stream",
     "text": [
      " [-----------------100%-----------------] 10000 of 10000 complete in 19.1 sec"
     ]
    }
   ],
   "source": [
    "model_mcmc.sample(10000,2000)"
   ]
  },
  {
   "cell_type": "code",
   "execution_count": 61,
   "metadata": {
    "collapsed": false
   },
   "outputs": [
    {
     "name": "stdout",
     "output_type": "stream",
     "text": [
      "-0.523045979292\n",
      "5.74338163856\n"
     ]
    }
   ],
   "source": [
    "print model_mcmc.trace('b_0')[:].mean()\n",
    "print model_mcmc.trace('b_diff_Pythag')[:].mean()"
   ]
  },
  {
   "cell_type": "code",
   "execution_count": null,
   "metadata": {
    "collapsed": true
   },
   "outputs": [],
   "source": [
    "model_means = mcmc_trace_means(model_mcmc, [str(0)]+ features, printMeans = True)"
   ]
  },
  {
   "cell_type": "code",
   "execution_count": null,
   "metadata": {
    "collapsed": true
   },
   "outputs": [],
   "source": [
    "### Model Diagnostics"
   ]
  },
  {
   "cell_type": "code",
   "execution_count": null,
   "metadata": {
    "collapsed": true
   },
   "outputs": [],
   "source": [
    "plot_Geweke(model_mcmc, [str(0)]+features)"
   ]
  },
  {
   "cell_type": "markdown",
   "metadata": {},
   "source": [
    "---\n",
    "## Predictions"
   ]
  },
  {
   "cell_type": "code",
   "execution_count": 300,
   "metadata": {
    "collapsed": false
   },
   "outputs": [],
   "source": [
    "\"\"\"\n",
    "Inputs:\n",
    "    data:       Dataframe with game data.\n",
    "    model_mcmc: PyMC MCMC object.\n",
    "    features:   list of features in data dataframe.\n",
    "    method:     'pp' for posterior predictive, 'map' for single estimate using MAP.\n",
    "\"\"\"\n",
    "def predict_games (data, model_mcmc, features, method='pp'):\n",
    "    # Trace and feature length.\n",
    "    trace_len = model_mcmc.trace('b_0')[:].shape[0]\n",
    "    coef_samples = trace_len\n",
    "    feat_len  = len(features)+1\n",
    "    data_len  = len(data)\n",
    "    \n",
    "    # Get coefficients.\n",
    "    coefs = np.empty((trace_len,feat_len))\n",
    "    for f_i, f in enumerate(['0']+features):\n",
    "        coefs[:,f_i] = model_mcmc.trace('b_'+f)[:]\n",
    "    # Use MAP if we need to.\n",
    "    if method == 'map':\n",
    "        coefs = coefs.mean(axis=0).reshape((1,feat_len))\n",
    "        coef_samples = 1\n",
    "    \n",
    "    # Get design matrix.\n",
    "    X = np.ones((data_len,feat_len))\n",
    "    for f_i, f in enumerate(features):\n",
    "        X[:,f_i+1] = data.ix[:,f]\n",
    "    # Get wins.\n",
    "    y = np.array(data.win)\n",
    "    \n",
    "    # Logistic function for win calculation.\n",
    "    logistic = lambda s: 1 / (1+np.exp(-s))\n",
    "    \n",
    "    # Estimate wins. Start with a wins container.\n",
    "    y_hat_raw = np.zeros((coef_samples,data_len))\n",
    "    y_hat     = np.zeros((coef_samples,data_len), dtype=np.int)\n",
    "    # Traverse set of coefficients and assemble win estimates.\n",
    "    for c_i, c in enumerate(coefs):\n",
    "        y_hat_raw[c_i] = logistic((c.T*X).sum(axis=1))\n",
    "    # Tag wins/losses with comparison.\n",
    "    y_hat = (y_hat_raw >= .5).astype(np.int)\n",
    "    \n",
    "    # Compute accuracy by wins.\n",
    "    y_hat_accuracy = (y == y_hat).mean()\n",
    "    \n",
    "    return y_hat_raw, y_hat, y_hat_accuracy"
   ]
  },
  {
   "cell_type": "code",
   "execution_count": 304,
   "metadata": {
    "collapsed": false
   },
   "outputs": [],
   "source": [
    "y_hat_raw, y_hat, y_hat_accuracy = predict_games(games_2014, model_mcmc, features, 'pp')"
   ]
  },
  {
   "cell_type": "code",
   "execution_count": 305,
   "metadata": {
    "collapsed": false
   },
   "outputs": [
    {
     "data": {
      "image/png": "[encoded data removed]",
      "text/plain": [
       "<matplotlib.figure.Figure at 0x2a71e8a90>"
      ]
     },
     "metadata": {},
     "output_type": "display_data"
    }
   ],
   "source": [
    "plt.hist(y_hat_raw.ravel(), bins=100);"
   ]
  }
 ],
 "metadata": {
  "kernelspec": {
   "display_name": "Python 2",
   "language": "python",
   "name": "python2"
  },
  "language_info": {
   "codemirror_mode": {
    "name": "ipython",
    "version": 2
   },
   "file_extension": ".py",
   "mimetype": "text/x-python",
   "name": "python",
   "nbconvert_exporter": "python",
   "pygments_lexer": "ipython2",
   "version": "2.7.7"
  }
 },
 "nbformat": 4,
 "nbformat_minor": 0
}
