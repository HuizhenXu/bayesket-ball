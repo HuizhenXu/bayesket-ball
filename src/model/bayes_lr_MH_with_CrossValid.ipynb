{
 "cells": [
  {
   "cell_type": "markdown",
   "metadata": {},
   "source": [
    "# Bayesian Logistic Regression Modules"
   ]
  },
  {
   "cell_type": "markdown",
   "metadata": {},
   "source": [
    "This notebook tests the modules that perform logistic regression."
   ]
  },
  {
   "cell_type": "code",
   "execution_count": 1,
   "metadata": {
    "collapsed": false
   },
   "outputs": [],
   "source": [
    "### Libraries\n",
    "\n",
    "import matplotlib, matplotlib.pyplot as plt\n",
    "import numpy  as np\n",
    "import pandas as pd\n",
    "import pymc\n",
    "\n",
    "% matplotlib inline"
   ]
  },
  {
   "cell_type": "code",
   "execution_count": 2,
   "metadata": {
    "collapsed": false
   },
   "outputs": [],
   "source": [
    "### Custom Modules\n",
    "\n",
    "import bayes_lr\n",
    "import game_predictions"
   ]
  },
  {
   "cell_type": "code",
   "execution_count": 72,
   "metadata": {
    "collapsed": false
   },
   "outputs": [],
   "source": [
    "### Reloading Examples\n",
    "\n",
    "bayes_lr = reload(bayes_lr)\n",
    "game_predictions = reload(game_predictions)"
   ]
  },
  {
   "cell_type": "code",
   "execution_count": 4,
   "metadata": {
    "collapsed": true
   },
   "outputs": [],
   "source": [
    "### Settings\n",
    "\n",
    "# Games path.\n",
    "games_path = '../games.csv'"
   ]
  },
  {
   "cell_type": "markdown",
   "metadata": {},
   "source": [
    "## Data"
   ]
  },
  {
   "cell_type": "code",
   "execution_count": 5,
   "metadata": {
    "collapsed": true
   },
   "outputs": [],
   "source": [
    "# Read games.\n",
    "games = pd.read_csv(games_path)\n",
    "# Trim to single group.\n",
    "games = games[games.game_group == 1].reset_index(drop=True)\n",
    "# 2014 games.\n",
    "games_2014 = games[games.year == 2014].reset_index(drop=True)"
   ]
  },
  {
   "cell_type": "code",
   "execution_count": 18,
   "metadata": {
    "collapsed": false
   },
   "outputs": [
    {
     "data": {
      "text/html": [
       "<div style=\"max-height:1000px;max-width:1500px;overflow:auto;\">\n",
       "<table border=\"1\" class=\"dataframe\">\n",
       "  <thead>\n",
       "    <tr style=\"text-align: right;\">\n",
       "      <th></th>\n",
       "      <th>game_id</th>\n",
       "      <th>game_group</th>\n",
       "      <th>year</th>\n",
       "      <th>date</th>\n",
       "      <th>team</th>\n",
       "      <th>opponent</th>\n",
       "      <th>conference</th>\n",
       "      <th>conference_tournament</th>\n",
       "      <th>ncaa_tournament</th>\n",
       "      <th>other_tournament</th>\n",
       "      <th>...</th>\n",
       "      <th>ratio_RankAdjOE</th>\n",
       "      <th>ratio_DE</th>\n",
       "      <th>ratio_RankDE</th>\n",
       "      <th>ratio_AdjDE</th>\n",
       "      <th>ratio_RankAdjDE</th>\n",
       "      <th>ratio_Pythag</th>\n",
       "      <th>ratio_RankPythag</th>\n",
       "      <th>points_for</th>\n",
       "      <th>points_against</th>\n",
       "      <th>win</th>\n",
       "    </tr>\n",
       "  </thead>\n",
       "  <tbody>\n",
       "    <tr>\n",
       "      <th>0</th>\n",
       "      <td>         20131108-airforce-army</td>\n",
       "      <td> 1</td>\n",
       "      <td> 2014</td>\n",
       "      <td> 2013-11-08</td>\n",
       "      <td>        Air Force</td>\n",
       "      <td>        Army</td>\n",
       "      <td> 0</td>\n",
       "      <td> 0</td>\n",
       "      <td> 0</td>\n",
       "      <td> 0</td>\n",
       "      <td>...</td>\n",
       "      <td> 1.611429</td>\n",
       "      <td> 0.995965</td>\n",
       "      <td> 0.959350</td>\n",
       "      <td> 0.958617</td>\n",
       "      <td> 0.682143</td>\n",
       "      <td> 0.863300</td>\n",
       "      <td> 1.105042</td>\n",
       "      <td> 79</td>\n",
       "      <td> 68</td>\n",
       "      <td> 1</td>\n",
       "    </tr>\n",
       "    <tr>\n",
       "      <th>1</th>\n",
       "      <td> 20131108-akron-coastalcarolina</td>\n",
       "      <td> 1</td>\n",
       "      <td> 2014</td>\n",
       "      <td> 2013-11-08</td>\n",
       "      <td> Coastal Carolina</td>\n",
       "      <td>       Akron</td>\n",
       "      <td> 0</td>\n",
       "      <td> 0</td>\n",
       "      <td> 0</td>\n",
       "      <td> 0</td>\n",
       "      <td>...</td>\n",
       "      <td> 1.626437</td>\n",
       "      <td> 0.992823</td>\n",
       "      <td> 0.804348</td>\n",
       "      <td> 0.994553</td>\n",
       "      <td> 0.918699</td>\n",
       "      <td> 0.705015</td>\n",
       "      <td> 1.510638</td>\n",
       "      <td> 63</td>\n",
       "      <td> 72</td>\n",
       "      <td> 0</td>\n",
       "    </tr>\n",
       "    <tr>\n",
       "      <th>2</th>\n",
       "      <td>      20131108-alabama-oklahoma</td>\n",
       "      <td> 1</td>\n",
       "      <td> 2014</td>\n",
       "      <td> 2013-11-08</td>\n",
       "      <td>          Alabama</td>\n",
       "      <td>    Oklahoma</td>\n",
       "      <td> 0</td>\n",
       "      <td> 0</td>\n",
       "      <td> 0</td>\n",
       "      <td> 0</td>\n",
       "      <td>...</td>\n",
       "      <td> 8.250000</td>\n",
       "      <td> 0.992020</td>\n",
       "      <td> 0.852941</td>\n",
       "      <td> 0.994295</td>\n",
       "      <td> 0.835165</td>\n",
       "      <td> 0.792496</td>\n",
       "      <td> 2.787879</td>\n",
       "      <td> 73</td>\n",
       "      <td> 82</td>\n",
       "      <td> 0</td>\n",
       "    </tr>\n",
       "    <tr>\n",
       "      <th>3</th>\n",
       "      <td>    20131108-alabamast-illinois</td>\n",
       "      <td> 1</td>\n",
       "      <td> 2014</td>\n",
       "      <td> 2013-11-08</td>\n",
       "      <td>         Illinois</td>\n",
       "      <td> Alabama St.</td>\n",
       "      <td> 0</td>\n",
       "      <td> 0</td>\n",
       "      <td> 0</td>\n",
       "      <td> 0</td>\n",
       "      <td>...</td>\n",
       "      <td> 0.591973</td>\n",
       "      <td> 0.956948</td>\n",
       "      <td> 0.398305</td>\n",
       "      <td> 0.852152</td>\n",
       "      <td> 0.042146</td>\n",
       "      <td> 3.916374</td>\n",
       "      <td> 0.163880</td>\n",
       "      <td> 80</td>\n",
       "      <td> 63</td>\n",
       "      <td> 1</td>\n",
       "    </tr>\n",
       "    <tr>\n",
       "      <th>4</th>\n",
       "      <td>          20131108-albany-siena</td>\n",
       "      <td> 1</td>\n",
       "      <td> 2014</td>\n",
       "      <td> 2013-11-08</td>\n",
       "      <td>           Albany</td>\n",
       "      <td>       Siena</td>\n",
       "      <td> 0</td>\n",
       "      <td> 0</td>\n",
       "      <td> 0</td>\n",
       "      <td> 0</td>\n",
       "      <td>...</td>\n",
       "      <td> 0.908333</td>\n",
       "      <td> 0.979566</td>\n",
       "      <td> 0.718182</td>\n",
       "      <td> 1.029238</td>\n",
       "      <td> 1.653846</td>\n",
       "      <td> 0.908098</td>\n",
       "      <td> 1.145695</td>\n",
       "      <td> 74</td>\n",
       "      <td> 62</td>\n",
       "      <td> 1</td>\n",
       "    </tr>\n",
       "  </tbody>\n",
       "</table>\n",
       "<p>5 rows × 74 columns</p>\n",
       "</div>"
      ],
      "text/plain": [
       "                          game_id  game_group  year        date  \\\n",
       "0          20131108-airforce-army           1  2014  2013-11-08   \n",
       "1  20131108-akron-coastalcarolina           1  2014  2013-11-08   \n",
       "2       20131108-alabama-oklahoma           1  2014  2013-11-08   \n",
       "3     20131108-alabamast-illinois           1  2014  2013-11-08   \n",
       "4           20131108-albany-siena           1  2014  2013-11-08   \n",
       "\n",
       "               team     opponent  conference  conference_tournament  \\\n",
       "0         Air Force         Army           0                      0   \n",
       "1  Coastal Carolina        Akron           0                      0   \n",
       "2           Alabama     Oklahoma           0                      0   \n",
       "3          Illinois  Alabama St.           0                      0   \n",
       "4            Albany        Siena           0                      0   \n",
       "\n",
       "   ncaa_tournament  other_tournament        ...         ratio_RankAdjOE  \\\n",
       "0                0                 0        ...                1.611429   \n",
       "1                0                 0        ...                1.626437   \n",
       "2                0                 0        ...                8.250000   \n",
       "3                0                 0        ...                0.591973   \n",
       "4                0                 0        ...                0.908333   \n",
       "\n",
       "   ratio_DE  ratio_RankDE  ratio_AdjDE  ratio_RankAdjDE  ratio_Pythag  \\\n",
       "0  0.995965      0.959350     0.958617         0.682143      0.863300   \n",
       "1  0.992823      0.804348     0.994553         0.918699      0.705015   \n",
       "2  0.992020      0.852941     0.994295         0.835165      0.792496   \n",
       "3  0.956948      0.398305     0.852152         0.042146      3.916374   \n",
       "4  0.979566      0.718182     1.029238         1.653846      0.908098   \n",
       "\n",
       "   ratio_RankPythag  points_for  points_against  win  \n",
       "0          1.105042          79              68    1  \n",
       "1          1.510638          63              72    0  \n",
       "2          2.787879          73              82    0  \n",
       "3          0.163880          80              63    1  \n",
       "4          1.145695          74              62    1  \n",
       "\n",
       "[5 rows x 74 columns]"
      ]
     },
     "execution_count": 18,
     "metadata": {},
     "output_type": "execute_result"
    }
   ],
   "source": [
    "games_2014.head()"
   ]
  },
  {
   "cell_type": "markdown",
   "metadata": {},
   "source": [
    "## Model"
   ]
  },
  {
   "cell_type": "code",
   "execution_count": 25,
   "metadata": {
    "collapsed": true
   },
   "outputs": [],
   "source": [
    "# Features.\n",
    "features = ['location_Home','diff_RankAdjTempo','diff_OE','diff_DE','diff_RankPythag']"
   ]
  },
  {
   "cell_type": "code",
   "execution_count": 26,
   "metadata": {
    "collapsed": false
   },
   "outputs": [],
   "source": [
    "# Proposal functions\n",
    "step_method_params = []\n",
    "for i in xrange(len(features)):\n",
    "    step_method_params.append({'proposal_sd':1, 'proposal_distribution':'Normal'})\n",
    "# step_method_params[1] = {'proposal_sd':10., 'proposal_distribution':'Normal'}\n",
    "# step_method_params[2] = {'proposal_sd':10., 'proposal_distribution':'Normal'}\n",
    "# step_method_params[3] = {'proposal_sd':10., 'proposal_distribution':'Normal'}"
   ]
  },
  {
   "cell_type": "code",
   "execution_count": 27,
   "metadata": {
    "collapsed": false
   },
   "outputs": [
    {
     "data": {
      "text/plain": [
       "[{'proposal_distribution': 'Normal', 'proposal_sd': 1},\n",
       " {'proposal_distribution': 'Normal', 'proposal_sd': 1},\n",
       " {'proposal_distribution': 'Normal', 'proposal_sd': 1},\n",
       " {'proposal_distribution': 'Normal', 'proposal_sd': 1},\n",
       " {'proposal_distribution': 'Normal', 'proposal_sd': 1}]"
      ]
     },
     "execution_count": 27,
     "metadata": {},
     "output_type": "execute_result"
    }
   ],
   "source": [
    "step_method_params"
   ]
  },
  {
   "cell_type": "code",
   "execution_count": 58,
   "metadata": {
    "collapsed": false
   },
   "outputs": [
    {
     "data": {
      "text/plain": [
       "[{'mu': 0, 'tau': 0.0003, 'value': 0},\n",
       " {'mu': 0, 'tau': 0.0003, 'value': 0},\n",
       " {'mu': 0, 'tau': 3, 'value': 0},\n",
       " {'mu': 0, 'tau': 3, 'value': 0},\n",
       " {'mu': 0, 'tau': 0.0003, 'value': 0}]"
      ]
     },
     "execution_count": 58,
     "metadata": {},
     "output_type": "execute_result"
    }
   ],
   "source": [
    "# Priors\n",
    "coef_dist_params = []\n",
    "for i in xrange(len(features)):\n",
    "    coef_dist_params.append({'mu':0, 'tau':0.0003, 'value':0})\n",
    "coef_dist_params[2] = {'mu': 0, 'tau': 3, 'value': 0}\n",
    "coef_dist_params[3] = {'mu': 0, 'tau': 3, 'value': 0}\n",
    "coef_dist_params"
   ]
  },
  {
   "cell_type": "code",
   "execution_count": null,
   "metadata": {
    "collapsed": true
   },
   "outputs": [],
   "source": []
  },
  {
   "cell_type": "code",
   "execution_count": 59,
   "metadata": {
    "collapsed": false,
    "scrolled": true
   },
   "outputs": [
    {
     "name": "stdout",
     "output_type": "stream",
     "text": [
      "{'mu': 0, 'tau': 0.0003, 'value': 0}\n",
      "{'mu': 0, 'tau': 0.0003, 'value': 0}\n",
      "{'mu': 0, 'tau': 3, 'value': 0}\n",
      "{'mu': 0, 'tau': 3, 'value': 0}\n",
      "{'mu': 0, 'tau': 0.0003, 'value': 0}\n"
     ]
    }
   ],
   "source": [
    "\n",
    "model_mcmc = bayes_lr.model_games(data=games_2014,features=features, \\\n",
    "                                  step_method_params=step_method_params, coef_dist_params = coef_dist_params)"
   ]
  },
  {
   "cell_type": "code",
   "execution_count": 60,
   "metadata": {
    "collapsed": false
   },
   "outputs": [
    {
     "name": "stdout",
     "output_type": "stream",
     "text": [
      " [-----------------100%-----------------] 10000 of 10000 complete in 17.1 sec"
     ]
    }
   ],
   "source": [
    "model_mcmc.sample(10000,2000, thin=10)\n",
    "# model_mcmc.sample(10000,2000)"
   ]
  },
  {
   "cell_type": "markdown",
   "metadata": {},
   "source": [
    "## Diagnostics"
   ]
  },
  {
   "cell_type": "code",
   "execution_count": 11,
   "metadata": {
    "collapsed": false
   },
   "outputs": [
    {
     "name": "stdout",
     "output_type": "stream",
     "text": [
      "Plotting b_diff_RankPythag\n",
      "Plotting b_diff_RankAdjTempo\n",
      "Plotting b_0\n",
      "Plotting b_diff_DE\n",
      "Plotting err\n",
      "Plotting b_location_Home\n",
      "Plotting b_diff_OE\n"
     ]
    },
    {
     "data": {
      "image/png": "[encoded data removed]",
      "text/plain": [
       "<matplotlib.figure.Figure at 0x2065c978>"
      ]
     },
     "metadata": {},
     "output_type": "display_data"
    },
    {
     "data": {
      "image/png": "[encoded data removed]",
      "text/plain": [
       "<matplotlib.figure.Figure at 0x2046a6a0>"
      ]
     },
     "metadata": {},
     "output_type": "display_data"
    },
    {
     "data": {
      "image/png": "[encoded data removed]",
      "text/plain": [
       "<matplotlib.figure.Figure at 0x17e2d0b8>"
      ]
     },
     "metadata": {},
     "output_type": "display_data"
    },
    {
     "data": {
      "image/png": "[encoded data removed]",
      "text/plain": [
       "<matplotlib.figure.Figure at 0x201e5b00>"
      ]
     },
     "metadata": {},
     "output_type": "display_data"
    },
    {
     "data": {
      "image/png": "[encoded data removed]",
      "text/plain": [
       "<matplotlib.figure.Figure at 0x205254a8>"
      ]
     },
     "metadata": {},
     "output_type": "display_data"
    },
    {
     "data": {
      "image/png": "[encoded data removed]",
      "text/plain": [
       "<matplotlib.figure.Figure at 0x208b8f28>"
      ]
     },
     "metadata": {},
     "output_type": "display_data"
    },
    {
     "data": {
      "image/png": "[encoded data removed]",
      "text/plain": [
       "<matplotlib.figure.Figure at 0x20bd1c50>"
      ]
     },
     "metadata": {},
     "output_type": "display_data"
    }
   ],
   "source": [
    "# No thinning\n",
    "pymc.Matplot.autocorrelation(model_mcmc)"
   ]
  },
  {
   "cell_type": "code",
   "execution_count": 17,
   "metadata": {
    "collapsed": false
   },
   "outputs": [
    {
     "name": "stdout",
     "output_type": "stream",
     "text": [
      "Plotting b_diff_RankAdjTempo\n",
      "Plotting b_0\n",
      "Plotting b_diff_RankPythag\n",
      "Plotting b_diff_OE\n",
      "Plotting err\n",
      "Plotting b_diff_DE\n",
      "Plotting b_location_Home\n"
     ]
    },
    {
     "data": {
      "image/png": "[encoded data removed]",
      "text/plain": [
       "<matplotlib.figure.Figure at 0x1f7654e0>"
      ]
     },
     "metadata": {},
     "output_type": "display_data"
    },
    {
     "data": {
      "image/png": "[encoded data removed]",
      "text/plain": [
       "<matplotlib.figure.Figure at 0x1f24d780>"
      ]
     },
     "metadata": {},
     "output_type": "display_data"
    },
    {
     "data": {
      "image/png": "[encoded data removed]",
      "text/plain": [
       "<matplotlib.figure.Figure at 0x1f946438>"
      ]
     },
     "metadata": {},
     "output_type": "display_data"
    },
    {
     "data": {
      "image/png": "[encoded data removed]",
      "text/plain": [
       "<matplotlib.figure.Figure at 0x1f779198>"
      ]
     },
     "metadata": {},
     "output_type": "display_data"
    },
    {
     "data": {
      "image/png": "[encoded data removed]",
      "text/plain": [
       "<matplotlib.figure.Figure at 0x208521d0>"
      ]
     },
     "metadata": {},
     "output_type": "display_data"
    },
    {
     "data": {
      "image/png": "[encoded data removed]",
      "text/plain": [
       "<matplotlib.figure.Figure at 0x1ef54d30>"
      ]
     },
     "metadata": {},
     "output_type": "display_data"
    },
    {
     "data": {
      "image/png": "[encoded data removed]",
      "text/plain": [
       "<matplotlib.figure.Figure at 0x187228d0>"
      ]
     },
     "metadata": {},
     "output_type": "display_data"
    }
   ],
   "source": [
    "# No thinning - changed proposal to 10\n",
    "# Correlation went down\n",
    "pymc.Matplot.autocorrelation(model_mcmc)"
   ]
  },
  {
   "cell_type": "code",
   "execution_count": 34,
   "metadata": {
    "collapsed": false
   },
   "outputs": [
    {
     "name": "stdout",
     "output_type": "stream",
     "text": [
      "Plotting b_diff_RankPythag\n",
      "Plotting b_diff_RankAdjTempo\n",
      "Plotting b_0\n",
      "Plotting b_diff_DE\n",
      "Plotting err\n",
      "Plotting b_location_Home\n",
      "Plotting b_diff_OE\n"
     ]
    },
    {
     "data": {
      "image/png": "[encoded data removed]",
      "text/plain": [
       "<matplotlib.figure.Figure at 0x1ee6f710>"
      ]
     },
     "metadata": {},
     "output_type": "display_data"
    },
    {
     "data": {
      "image/png": "[encoded data removed]",
      "text/plain": [
       "<matplotlib.figure.Figure at 0x1f7683c8>"
      ]
     },
     "metadata": {},
     "output_type": "display_data"
    },
    {
     "data": {
      "image/png": "[encoded data removed]",
      "text/plain": [
       "<matplotlib.figure.Figure at 0x20bb22e8>"
      ]
     },
     "metadata": {},
     "output_type": "display_data"
    },
    {
     "data": {
      "image/png": "[encoded data removed]",
      "text/plain": [
       "<matplotlib.figure.Figure at 0x2079bc50>"
      ]
     },
     "metadata": {},
     "output_type": "display_data"
    },
    {
     "data": {
      "image/png": "[encoded data removed]",
      "text/plain": [
       "<matplotlib.figure.Figure at 0x1ed0f5f8>"
      ]
     },
     "metadata": {},
     "output_type": "display_data"
    },
    {
     "data": {
      "image/png": "[encoded data removed]",
      "text/plain": [
       "<matplotlib.figure.Figure at 0x184c0438>"
      ]
     },
     "metadata": {},
     "output_type": "display_data"
    },
    {
     "data": {
      "image/png": "[encoded data removed]",
      "text/plain": [
       "<matplotlib.figure.Figure at 0x18692780>"
      ]
     },
     "metadata": {},
     "output_type": "display_data"
    }
   ],
   "source": [
    "# With Thinning!\n",
    "pymc.Matplot.autocorrelation(model_mcmc)"
   ]
  },
  {
   "cell_type": "code",
   "execution_count": 35,
   "metadata": {
    "collapsed": false
   },
   "outputs": [
    {
     "name": "stdout",
     "output_type": "stream",
     "text": [
      "location_Home\n",
      "diff_RankAdjTempo\n",
      "diff_OE\n",
      "diff_DE\n",
      "diff_RankPythag\n"
     ]
    },
    {
     "data": {
      "image/png": "[encoded data removed]",
      "text/plain": [
       "<matplotlib.figure.Figure at 0x1fb0e6a0>"
      ]
     },
     "metadata": {},
     "output_type": "display_data"
    },
    {
     "data": {
      "image/png": "[encoded data removed]",
      "text/plain": [
       "<matplotlib.figure.Figure at 0x20c889b0>"
      ]
     },
     "metadata": {},
     "output_type": "display_data"
    },
    {
     "data": {
      "image/png": "[encoded data removed]",
      "text/plain": [
       "<matplotlib.figure.Figure at 0x1f95ac88>"
      ]
     },
     "metadata": {},
     "output_type": "display_data"
    },
    {
     "data": {
      "image/png": "[encoded data removed]",
      "text/plain": [
       "<matplotlib.figure.Figure at 0x20bdc6d8>"
      ]
     },
     "metadata": {},
     "output_type": "display_data"
    },
    {
     "data": {
      "image/png": "[encoded data removed]",
      "text/plain": [
       "<matplotlib.figure.Figure at 0x18692d30>"
      ]
     },
     "metadata": {},
     "output_type": "display_data"
    }
   ],
   "source": [
    "# Geweke Test\n",
    "for feature in features:\n",
    "    print feature\n",
    "    scores = pymc.geweke(model_mcmc.trace('b_'+feature)[:])\n",
    "    pymc.Matplot.geweke_plot(scores, name = 'geweke_'+feature)"
   ]
  },
  {
   "cell_type": "code",
   "execution_count": 38,
   "metadata": {
    "collapsed": false
   },
   "outputs": [
    {
     "name": "stdout",
     "output_type": "stream",
     "text": [
      "b_0 -0.45246132388\n",
      "b_location_Home 1.11301838402\n",
      "b_diff_RankAdjTempo -0.000191543274061\n",
      "b_diff_OE 0.0198983211091\n",
      "b_diff_DE -0.0241150127675\n",
      "b_diff_RankPythag -0.0131312440093\n"
     ]
    }
   ],
   "source": [
    "# Display means\n",
    "model_means = bayes_lr.mcmc_trace_means(model_mcmc, [str(0)]+ features, printMeans = True)"
   ]
  },
  {
   "cell_type": "code",
   "execution_count": 12,
   "metadata": {
    "collapsed": false
   },
   "outputs": [
    {
     "name": "stdout",
     "output_type": "stream",
     "text": [
      "b_0 -0.452691422508\n",
      "b_location_Home 1.11335972994\n",
      "b_diff_RankAdjTempo -0.000177097190353\n",
      "b_diff_OE 0.0199200495776\n",
      "b_diff_DE -0.0245691767059\n",
      "b_diff_RankPythag -0.0130941131334\n"
     ]
    }
   ],
   "source": [
    "# Display means\n",
    "# from changing proposals\n",
    "model_means = bayes_lr.mcmc_trace_means(model_mcmc, [str(0)]+ features, printMeans = True)"
   ]
  },
  {
   "cell_type": "code",
   "execution_count": 46,
   "metadata": {
    "collapsed": false
   },
   "outputs": [
    {
     "name": "stdout",
     "output_type": "stream",
     "text": [
      " [-----------------100%-----------------] 10000 of 10000 complete in 13.8 sec"
     ]
    },
    {
     "data": {
      "text/plain": [
       "0.76730448128330786"
      ]
     },
     "execution_count": 46,
     "metadata": {},
     "output_type": "execute_result"
    }
   ],
   "source": [
    "# Cross validation\n",
    "bayes_lr.mcmc_xval(games_2014,features,5,10)"
   ]
  },
  {
   "cell_type": "code",
   "execution_count": null,
   "metadata": {
    "collapsed": true
   },
   "outputs": [],
   "source": []
  },
  {
   "cell_type": "code",
   "execution_count": 62,
   "metadata": {
    "collapsed": false
   },
   "outputs": [
    {
     "name": "stdout",
     "output_type": "stream",
     "text": [
      "b_0 -0.454350527116\n",
      "b_location_Home 1.11774172386\n",
      "b_diff_RankAdjTempo -0.000201479451262\n",
      "b_diff_OE 0.0220827814131\n",
      "b_diff_DE -0.0266910335676\n",
      "b_diff_RankPythag -0.0128597902293\n"
     ]
    }
   ],
   "source": [
    "# Set priors\n",
    "# Display means\n",
    "# from changing proposals\n",
    "model_means = bayes_lr.mcmc_trace_means(model_mcmc, [str(0)]+ features, printMeans = True)"
   ]
  },
  {
   "cell_type": "code",
   "execution_count": 73,
   "metadata": {
    "collapsed": false
   },
   "outputs": [
    {
     "name": "stdout",
     "output_type": "stream",
     "text": [
      "{'mu': 0, 'tau': 0.0003, 'value': 0}\n",
      "{'mu': 0, 'tau': 0.0003, 'value': 0}\n",
      "{'mu': 0, 'tau': 3, 'value': 0}\n",
      "{'mu': 0, 'tau': 3, 'value': 0}\n",
      "{'mu': 0, 'tau': 0.0003, 'value': 0}\n",
      " [-----------------100%-----------------] 10000 of 10000 complete in 13.6 sec{'mu': 0, 'tau': 0.0003, 'value': 0}\n",
      "{'mu': 0, 'tau': 0.0003, 'value': 0}\n",
      "{'mu': 0, 'tau': 3, 'value': 0}\n",
      "{'mu': 0, 'tau': 3, 'value': 0}\n",
      "{'mu': 0, 'tau': 0.0003, 'value': 0}\n",
      " [-----------------100%-----------------] 10000 of 10000 complete in 13.7 sec{'mu': 0, 'tau': 0.0003, 'value': 0}\n",
      "{'mu': 0, 'tau': 0.0003, 'value': 0}\n",
      "{'mu': 0, 'tau': 3, 'value': 0}\n",
      "{'mu': 0, 'tau': 3, 'value': 0}\n",
      "{'mu': 0, 'tau': 0.0003, 'value': 0}\n",
      " [-----------------100%-----------------] 10000 of 10000 complete in 13.6 sec{'mu': 0, 'tau': 0.0003, 'value': 0}\n",
      "{'mu': 0, 'tau': 0.0003, 'value': 0}\n",
      "{'mu': 0, 'tau': 3, 'value': 0}\n",
      "{'mu': 0, 'tau': 3, 'value': 0}\n",
      "{'mu': 0, 'tau': 0.0003, 'value': 0}\n",
      " [-----------------100%-----------------] 10000 of 10000 complete in 13.6 sec{'mu': 0, 'tau': 0.0003, 'value': 0}\n",
      "{'mu': 0, 'tau': 0.0003, 'value': 0}\n",
      "{'mu': 0, 'tau': 3, 'value': 0}\n",
      "{'mu': 0, 'tau': 3, 'value': 0}\n",
      "{'mu': 0, 'tau': 0.0003, 'value': 0}\n",
      " [-----------------100%-----------------] 10000 of 10000 complete in 13.9 sec"
     ]
    },
    {
     "data": {
      "text/plain": [
       "array([ 0.76033689,  0.77572368,  0.77334165,  0.75234332,  0.770646  ])"
      ]
     },
     "execution_count": 73,
     "metadata": {},
     "output_type": "execute_result"
    }
   ],
   "source": [
    "# Cross validation\n",
    "bayes_lr.mcmc_xval(games_2014,features,5,10, step_method_params, coef_dist_params)"
   ]
  },
  {
   "cell_type": "code",
   "execution_count": 74,
   "metadata": {
    "collapsed": false
   },
   "outputs": [
    {
     "data": {
      "text/plain": [
       "0.76647830800000005"
      ]
     },
     "execution_count": 74,
     "metadata": {},
     "output_type": "execute_result"
    }
   ],
   "source": [
    "np.mean([0.76033689,  0.77572368,  0.77334165,  0.75234332,  0.770646])"
   ]
  },
  {
   "cell_type": "markdown",
   "metadata": {},
   "source": [
    "## Predict"
   ]
  },
  {
   "cell_type": "code",
   "execution_count": 48,
   "metadata": {
    "collapsed": true
   },
   "outputs": [],
   "source": [
    "y_hat_raw, y_hat, y_hat_accuracy = game_predictions.predict_games(games_2014, model_mcmc, features, 'pp')"
   ]
  },
  {
   "cell_type": "code",
   "execution_count": 49,
   "metadata": {
    "collapsed": false
   },
   "outputs": [
    {
     "data": {
      "image/png": "[encoded data removed]",
      "text/plain": [
       "<matplotlib.figure.Figure at 0x1ed16c18>"
      ]
     },
     "metadata": {},
     "output_type": "display_data"
    }
   ],
   "source": [
    "plt.hist(y_hat_raw.ravel(), bins=100);"
   ]
  },
  {
   "cell_type": "code",
   "execution_count": null,
   "metadata": {
    "collapsed": true
   },
   "outputs": [],
   "source": []
  }
 ],
 "metadata": {
  "kernelspec": {
   "display_name": "Python 2",
   "language": "python",
   "name": "python2"
  },
  "language_info": {
   "codemirror_mode": {
    "name": "ipython",
    "version": 2
   },
   "file_extension": ".py",
   "mimetype": "text/x-python",
   "name": "python",
   "nbconvert_exporter": "python",
   "pygments_lexer": "ipython2",
   "version": "2.7.7"
  }
 },
 "nbformat": 4,
 "nbformat_minor": 0
}
