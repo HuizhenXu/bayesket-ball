{
 "cells": [
  {
   "cell_type": "markdown",
   "metadata": {},
   "source": [
    "# Bayesian Logistic Regression Modules"
   ]
  },
  {
   "cell_type": "markdown",
   "metadata": {},
   "source": [
    "This notebook tests the modules that perform logistic regression."
   ]
  },
  {
   "cell_type": "code",
   "execution_count": 43,
   "metadata": {
    "collapsed": false
   },
   "outputs": [],
   "source": [
    "### Libraries\n",
    "\n",
    "import datetime as dt\n",
    "import matplotlib, matplotlib.pyplot as plt\n",
    "import numpy  as np\n",
    "import pandas as pd\n",
    "import pymc\n",
    "\n",
    "# Library settings.\n",
    "% matplotlib inline\n",
    "pd.set_option('display.max_rows', 100)"
   ]
  },
  {
   "cell_type": "code",
   "execution_count": 2,
   "metadata": {
    "collapsed": false
   },
   "outputs": [],
   "source": [
    "### Custom Modules\n",
    "\n",
    "import bayes_lr\n",
    "import game_predictions"
   ]
  },
  {
   "cell_type": "code",
   "execution_count": 24,
   "metadata": {
    "collapsed": false
   },
   "outputs": [],
   "source": [
    "### Reloading Examples\n",
    "\n",
    "bayes_lr = reload(bayes_lr)\n",
    "game_predictions = reload(game_predictions)"
   ]
  },
  {
   "cell_type": "code",
   "execution_count": 55,
   "metadata": {
    "collapsed": true
   },
   "outputs": [],
   "source": [
    "### Settings\n",
    "\n",
    "# Games path.\n",
    "games_path = '../../../data/games_2015_tournament.csv'\n",
    "\n",
    "# Pre-tournament statistics path.\n",
    "stats_path = '../../../data/kenpom_summaries/summary15_pt.csv'\n",
    "\n",
    "# Tournament bracket path.\n",
    "bracket_path = '../../../data/tournament_brackets/2015_64.csv'\n",
    "final_four_bracket_path = '../../../data/tournament_brackets/2015_4.csv'"
   ]
  },
  {
   "cell_type": "markdown",
   "metadata": {},
   "source": [
    "## Data"
   ]
  },
  {
   "cell_type": "code",
   "execution_count": 14,
   "metadata": {
    "collapsed": true
   },
   "outputs": [],
   "source": [
    "# Read games.\n",
    "games = pd.read_csv(games_path)\n",
    "# Trim to single group.\n",
    "games = games[games.game_group == 1].reset_index(drop=True)\n",
    "# 2014 games.\n",
    "# games_2014 = games[games.year == 2014].reset_index(drop=True)"
   ]
  },
  {
   "cell_type": "code",
   "execution_count": 6,
   "metadata": {
    "collapsed": true
   },
   "outputs": [],
   "source": [
    "# Read stats.\n",
    "pre_tournament_stats = pd.read_csv(stats_path)"
   ]
  },
  {
   "cell_type": "code",
   "execution_count": 56,
   "metadata": {
    "collapsed": false
   },
   "outputs": [],
   "source": [
    "# Read brackets.\n",
    "bracket = pd.read_csv(bracket_path, header=None).values.tolist()\n",
    "final_four_bracket = pd.read_csv(final_four_bracket_path, header=None).values.tolist()"
   ]
  },
  {
   "cell_type": "markdown",
   "metadata": {},
   "source": [
    "## Model"
   ]
  },
  {
   "cell_type": "code",
   "execution_count": 15,
   "metadata": {
    "collapsed": false
   },
   "outputs": [],
   "source": [
    "# Features.\n",
    "features = ['location_Home','diff_Tempo','diff_OE','diff_DE','diff_Pythag']\n",
    "model_mcmc = bayes_lr.model_games(data=games,features=features)"
   ]
  },
  {
   "cell_type": "code",
   "execution_count": 16,
   "metadata": {
    "collapsed": false
   },
   "outputs": [
    {
     "name": "stdout",
     "output_type": "stream",
     "text": [
      " [-----------------100%-----------------] 10000 of 10000 complete in 19.9 sec"
     ]
    }
   ],
   "source": [
    "model_mcmc.sample(10000,2000)"
   ]
  },
  {
   "cell_type": "markdown",
   "metadata": {},
   "source": [
    "## Predict"
   ]
  },
  {
   "cell_type": "code",
   "execution_count": 119,
   "metadata": {
    "collapsed": false,
    "scrolled": true
   },
   "outputs": [],
   "source": [
    "y_hat_raw, y_hat, y_hat_accuracy = game_predictions.predict_games(games, features, model_mcmc=model_mcmc, method='pp')"
   ]
  },
  {
   "cell_type": "code",
   "execution_count": 120,
   "metadata": {
    "collapsed": false
   },
   "outputs": [
    {
     "data": {
      "image/png": "[encoded data removed]",
      "text/plain": [
       "<matplotlib.figure.Figure at 0x119bc8110>"
      ]
     },
     "metadata": {},
     "output_type": "display_data"
    }
   ],
   "source": [
    "plt.hist(y_hat_raw.ravel(), bins=100);"
   ]
  },
  {
   "cell_type": "markdown",
   "metadata": {},
   "source": [
    "## Simulate"
   ]
  },
  {
   "cell_type": "code",
   "execution_count": 121,
   "metadata": {
    "collapsed": false
   },
   "outputs": [],
   "source": [
    "### Reloading Examples\n",
    "\n",
    "bayes_lr = reload(bayes_lr)\n",
    "game_predictions = reload(game_predictions)"
   ]
  },
  {
   "cell_type": "code",
   "execution_count": 122,
   "metadata": {
    "collapsed": true
   },
   "outputs": [],
   "source": [
    "# Some code to get random coefficients for testing.\n",
    "coefs_all = bayes_lr.feature_coefficients(model_mcmc, features)\n",
    "# print coefs_all.shape\n",
    "c     = coefs_all[4000]\n",
    "coefs = coefs_all[np.random.choice(len(coefs_all), size=100)]\n",
    "# print coefs"
   ]
  },
  {
   "cell_type": "code",
   "execution_count": 48,
   "metadata": {
    "collapsed": false
   },
   "outputs": [
    {
     "name": "stdout",
     "output_type": "stream",
     "text": [
      "Start: 2015-05-01 22:58:32.432689\n",
      "End:   2015-05-01 23:06:45.188741\n"
     ]
    }
   ],
   "source": [
    "# Output time information, simulate tournament.\n",
    "print 'Start:',dt.datetime.now()\n",
    "final_four_outcomes = game_predictions.simulate_tournament(final_four_bracket, pre_tournament_stats, features, model_mcmc=model_mcmc)\n",
    "print 'End:  ',dt.datetime.now()"
   ]
  },
  {
   "cell_type": "code",
   "execution_count": 49,
   "metadata": {
    "collapsed": false
   },
   "outputs": [
    {
     "data": {
      "text/html": [
       "<div style=\"max-height:1000px;max-width:1500px;overflow:auto;\">\n",
       "<table border=\"1\" class=\"dataframe\">\n",
       "  <thead>\n",
       "    <tr style=\"text-align: right;\">\n",
       "      <th></th>\n",
       "      <th>wins_round_1</th>\n",
       "      <th>wins_round_2</th>\n",
       "    </tr>\n",
       "  </thead>\n",
       "  <tbody>\n",
       "    <tr>\n",
       "      <th>Duke</th>\n",
       "      <td>7226</td>\n",
       "      <td>3573</td>\n",
       "    </tr>\n",
       "    <tr>\n",
       "      <th>Kentucky</th>\n",
       "      <td>3960</td>\n",
       "      <td>2194</td>\n",
       "    </tr>\n",
       "    <tr>\n",
       "      <th>Michigan St.</th>\n",
       "      <td>774</td>\n",
       "      <td>5</td>\n",
       "    </tr>\n",
       "    <tr>\n",
       "      <th>Wisconsin</th>\n",
       "      <td>4040</td>\n",
       "      <td>2228</td>\n",
       "    </tr>\n",
       "  </tbody>\n",
       "</table>\n",
       "</div>"
      ],
      "text/plain": [
       "              wins_round_1  wins_round_2\n",
       "Duke                  7226          3573\n",
       "Kentucky              3960          2194\n",
       "Michigan St.           774             5\n",
       "Wisconsin             4040          2228"
      ]
     },
     "execution_count": 49,
     "metadata": {},
     "output_type": "execute_result"
    }
   ],
   "source": [
    "final_four_outcomes"
   ]
  },
  {
   "cell_type": "code",
   "execution_count": null,
   "metadata": {
    "collapsed": true
   },
   "outputs": [],
   "source": [
    "# Output time information, simulate tournament.\n",
    "print 'Start:',dt.datetime.now()\n",
    "% timeit tournament_outcomes = game_predictions.simulate_tournament(bracket, pre_tournament_stats, features, model_mcmc=model_mcmc)\n",
    "print 'End:  ',dt.datetime.now()"
   ]
  },
  {
   "cell_type": "code",
   "execution_count": null,
   "metadata": {
    "collapsed": false
   },
   "outputs": [],
   "source": [
    "tournament_outcomes"
   ]
  }
 ],
 "metadata": {
  "kernelspec": {
   "display_name": "Python 2",
   "language": "python",
   "name": "python2"
  },
  "language_info": {
   "codemirror_mode": {
    "name": "ipython",
    "version": 2
   },
   "file_extension": ".py",
   "mimetype": "text/x-python",
   "name": "python",
   "nbconvert_exporter": "python",
   "pygments_lexer": "ipython2",
   "version": "2.7.6"
  }
 },
 "nbformat": 4,
 "nbformat_minor": 0
}
