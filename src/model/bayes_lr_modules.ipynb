{
 "cells": [
  {
   "cell_type": "markdown",
   "metadata": {},
   "source": [
    "# Bayesian Logistic Regression Modules"
   ]
  },
  {
   "cell_type": "markdown",
   "metadata": {},
   "source": [
    "This notebook tests the modules that perform logistic regression."
   ]
  },
  {
   "cell_type": "code",
   "execution_count": 28,
   "metadata": {
    "collapsed": false
   },
   "outputs": [],
   "source": [
    "### Libraries\n",
    "\n",
    "import matplotlib, matplotlib.pyplot as plt\n",
    "import numpy  as np\n",
    "import pandas as pd\n",
    "import pymc\n",
    "\n",
    "% matplotlib inline"
   ]
  },
  {
   "cell_type": "code",
   "execution_count": 22,
   "metadata": {
    "collapsed": false
   },
   "outputs": [],
   "source": [
    "### Custom Modules\n",
    "\n",
    "import bayes_lr\n",
    "import game_predictions"
   ]
  },
  {
   "cell_type": "code",
   "execution_count": 46,
   "metadata": {
    "collapsed": false
   },
   "outputs": [],
   "source": [
    "### Reloading Examples\n",
    "\n",
    "bayes_lr = reload(bayes_lr)\n",
    "game_predictions = reload(game_predictions)"
   ]
  },
  {
   "cell_type": "code",
   "execution_count": 32,
   "metadata": {
    "collapsed": true
   },
   "outputs": [],
   "source": [
    "### Settings\n",
    "\n",
    "# Games path.\n",
    "games_path = '../../../data/games.csv'\n",
    "\n",
    "# Pre-tournament statistics path.\n",
    "stats_path = '../../../data/kenpom_summaries/summary15_pt.csv'\n",
    "\n",
    "# Tournament bracket path.\n",
    "bracket_path = '../../../data/tournament/2015_bracket.csv'"
   ]
  },
  {
   "cell_type": "markdown",
   "metadata": {},
   "source": [
    "## Data"
   ]
  },
  {
   "cell_type": "code",
   "execution_count": 4,
   "metadata": {
    "collapsed": true
   },
   "outputs": [],
   "source": [
    "# Read games.\n",
    "games = pd.read_csv(games_path)\n",
    "# Trim to single group.\n",
    "games = games[games.game_group == 1].reset_index(drop=True)\n",
    "# 2014 games.\n",
    "games_2014 = games[games.year == 2014].reset_index(drop=True)"
   ]
  },
  {
   "cell_type": "code",
   "execution_count": 33,
   "metadata": {
    "collapsed": true
   },
   "outputs": [],
   "source": [
    "# Read stats.\n",
    "pre_tournament_stats = pd.read_csv(stats_path)"
   ]
  },
  {
   "cell_type": "code",
   "execution_count": 100,
   "metadata": {
    "collapsed": true
   },
   "outputs": [],
   "source": [
    "# Read bracket.\n",
    "bracket = pd.read_csv(bracket_path, header=None).values.tolist()"
   ]
  },
  {
   "cell_type": "markdown",
   "metadata": {},
   "source": [
    "## Model"
   ]
  },
  {
   "cell_type": "code",
   "execution_count": 14,
   "metadata": {
    "collapsed": false
   },
   "outputs": [],
   "source": [
    "# Features.\n",
    "features = ['location_Home','diff_Tempo','diff_OE','diff_DE','diff_Pythag']\n",
    "model_mcmc = bayes_lr.model_games(data=games_2014,features=features)"
   ]
  },
  {
   "cell_type": "code",
   "execution_count": 15,
   "metadata": {
    "collapsed": false
   },
   "outputs": [
    {
     "name": "stdout",
     "output_type": "stream",
     "text": [
      " [-----------------100%-----------------] 10000 of 10000 complete in 22.6 sec"
     ]
    }
   ],
   "source": [
    "model_mcmc.sample(10000,2000)"
   ]
  },
  {
   "cell_type": "markdown",
   "metadata": {},
   "source": [
    "## Predict"
   ]
  },
  {
   "cell_type": "code",
   "execution_count": 30,
   "metadata": {
    "collapsed": true
   },
   "outputs": [],
   "source": [
    "y_hat_raw, y_hat, y_hat_accuracy = game_predictions.predict_games(games_2014, model_mcmc, features, 'pp')"
   ]
  },
  {
   "cell_type": "code",
   "execution_count": 29,
   "metadata": {
    "collapsed": false
   },
   "outputs": [
    {
     "data": {
      "image/png": "[encoded data removed]",
      "text/plain": [
       "<matplotlib.figure.Figure at 0x16810dd90>"
      ]
     },
     "metadata": {},
     "output_type": "display_data"
    }
   ],
   "source": [
    "plt.hist(y_hat_raw.ravel(), bins=100);"
   ]
  },
  {
   "cell_type": "markdown",
   "metadata": {},
   "source": [
    "## Simulate"
   ]
  },
  {
   "cell_type": "code",
   "execution_count": 357,
   "metadata": {
    "collapsed": false
   },
   "outputs": [],
   "source": [
    "### Reloading Examples\n",
    "\n",
    "bayes_lr = reload(bayes_lr)\n",
    "game_predictions = reload(game_predictions)"
   ]
  },
  {
   "cell_type": "code",
   "execution_count": 354,
   "metadata": {
    "collapsed": true
   },
   "outputs": [],
   "source": [
    "bracket = [['Duke','Michigan St.'],['Kentucky','Wisconsin']]"
   ]
  },
  {
   "cell_type": "code",
   "execution_count": 351,
   "metadata": {
    "collapsed": false
   },
   "outputs": [
    {
     "name": "stdout",
     "output_type": "stream",
     "text": [
      "(8000, 6)\n"
     ]
    }
   ],
   "source": [
    "coefs_all = game_predictions.feature_coefficients(model_mcmc, features)\n",
    "# print coefs_all.shape\n",
    "c   = coefs_all[4000]\n",
    "coefs = coefs_all[np.random.choice(len(coefs_all), size=40)]\n",
    "# print coefs"
   ]
  },
  {
   "cell_type": "code",
   "execution_count": 355,
   "metadata": {
    "collapsed": false,
    "scrolled": true
   },
   "outputs": [],
   "source": [
    "tournament_teams, tournament_outcomes = game_predictions.simulate_tournament(bracket, pre_tournament_stats, features, model_mcmc)"
   ]
  },
  {
   "cell_type": "code",
   "execution_count": 358,
   "metadata": {
    "collapsed": false
   },
   "outputs": [
    {
     "name": "stdout",
     "output_type": "stream",
     "text": [
      "['Duke' 'Kentucky' 'Michigan St.' 'Wisconsin']\n",
      "[[ 5944.  2793.]\n",
      " [ 3987.  2684.]\n",
      " [ 2056.   155.]\n",
      " [ 4013.  2368.]]\n"
     ]
    }
   ],
   "source": [
    "print tournament_teams\n",
    "print tournament_outcomes"
   ]
  }
 ],
 "metadata": {
  "kernelspec": {
   "display_name": "Python 2",
   "language": "python",
   "name": "python2"
  },
  "language_info": {
   "codemirror_mode": {
    "name": "ipython",
    "version": 2
   },
   "file_extension": ".py",
   "mimetype": "text/x-python",
   "name": "python",
   "nbconvert_exporter": "python",
   "pygments_lexer": "ipython2",
   "version": "2.7.6"
  }
 },
 "nbformat": 4,
 "nbformat_minor": 0
}
