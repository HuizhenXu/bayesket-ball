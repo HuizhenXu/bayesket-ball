{
 "cells": [
  {
   "cell_type": "markdown",
   "metadata": {},
   "source": [
    "# Simple Logistic Regression Model"
   ]
  },
  {
   "cell_type": "markdown",
   "metadata": {},
   "source": [
    "This draws heavily from: http://sabermetricinsights.blogspot.com/2014/05/bayesian-linear-regression-with-pymc.html."
   ]
  },
  {
   "cell_type": "markdown",
   "metadata": {},
   "source": [
    "## Setup"
   ]
  },
  {
   "cell_type": "code",
   "execution_count": 1,
   "metadata": {
    "collapsed": true
   },
   "outputs": [],
   "source": [
    "# Libraries.\n",
    "\n",
    "import matplotlib, matplotlib.pyplot as plt\n",
    "import numpy  as np\n",
    "import pandas as pd\n",
    "import pymc"
   ]
  },
  {
   "cell_type": "code",
   "execution_count": 2,
   "metadata": {
    "collapsed": false
   },
   "outputs": [],
   "source": [
    "# Settings.\n",
    "\n",
    "% matplotlib inline"
   ]
  },
  {
   "cell_type": "code",
   "execution_count": null,
   "metadata": {
    "collapsed": true
   },
   "outputs": [],
   "source": [
    "# Constants.\n",
    "\n"
   ]
  },
  {
   "cell_type": "markdown",
   "metadata": {},
   "source": [
    "## Data"
   ]
  },
  {
   "cell_type": "code",
   "execution_count": 3,
   "metadata": {
    "collapsed": true
   },
   "outputs": [],
   "source": [
    "# Read games.\n",
    "games = pd.read_csv('../../../data/games.csv')\n",
    "# Trim to single group.\n",
    "games = games[games.game_group == 1]\n",
    "\n",
    "# Store single year.\n",
    "games_2014 = games[games.year == 2014]"
   ]
  },
  {
   "cell_type": "code",
   "execution_count": 5,
   "metadata": {
    "collapsed": false,
    "scrolled": true
   },
   "outputs": [
    {
     "data": {
      "text/html": [
       "<div style=\"max-height:1000px;max-width:1500px;overflow:auto;\">\n",
       "<table border=\"1\" class=\"dataframe\">\n",
       "  <thead>\n",
       "    <tr style=\"text-align: right;\">\n",
       "      <th></th>\n",
       "      <th>game_id</th>\n",
       "      <th>game_group</th>\n",
       "      <th>year</th>\n",
       "      <th>date</th>\n",
       "      <th>team</th>\n",
       "      <th>opponent</th>\n",
       "      <th>conference</th>\n",
       "      <th>conference_tournament</th>\n",
       "      <th>ncaa_tournament</th>\n",
       "      <th>other_tournament</th>\n",
       "      <th>...</th>\n",
       "      <th>ratio_RankAdjOE</th>\n",
       "      <th>ratio_DE</th>\n",
       "      <th>ratio_RankDE</th>\n",
       "      <th>ratio_AdjDE</th>\n",
       "      <th>ratio_RankAdjDE</th>\n",
       "      <th>ratio_Pythag</th>\n",
       "      <th>ratio_RankPythag</th>\n",
       "      <th>points_for</th>\n",
       "      <th>points_against</th>\n",
       "      <th>win</th>\n",
       "    </tr>\n",
       "  </thead>\n",
       "  <tbody>\n",
       "    <tr>\n",
       "      <th>43277</th>\n",
       "      <td>20131108-airforce-army</td>\n",
       "      <td>1</td>\n",
       "      <td>2014</td>\n",
       "      <td>2013-11-08</td>\n",
       "      <td>Air Force</td>\n",
       "      <td>Army</td>\n",
       "      <td>0</td>\n",
       "      <td>0</td>\n",
       "      <td>0</td>\n",
       "      <td>0</td>\n",
       "      <td>...</td>\n",
       "      <td>1.611429</td>\n",
       "      <td>0.995965</td>\n",
       "      <td>0.959350</td>\n",
       "      <td>0.958617</td>\n",
       "      <td>0.682143</td>\n",
       "      <td>0.863300</td>\n",
       "      <td>1.105042</td>\n",
       "      <td>79</td>\n",
       "      <td>68</td>\n",
       "      <td>1</td>\n",
       "    </tr>\n",
       "    <tr>\n",
       "      <th>43279</th>\n",
       "      <td>20131108-akron-coastalcarolina</td>\n",
       "      <td>1</td>\n",
       "      <td>2014</td>\n",
       "      <td>2013-11-08</td>\n",
       "      <td>Coastal Carolina</td>\n",
       "      <td>Akron</td>\n",
       "      <td>0</td>\n",
       "      <td>0</td>\n",
       "      <td>0</td>\n",
       "      <td>0</td>\n",
       "      <td>...</td>\n",
       "      <td>1.626437</td>\n",
       "      <td>0.992823</td>\n",
       "      <td>0.804348</td>\n",
       "      <td>0.994553</td>\n",
       "      <td>0.918699</td>\n",
       "      <td>0.705015</td>\n",
       "      <td>1.510638</td>\n",
       "      <td>63</td>\n",
       "      <td>72</td>\n",
       "      <td>0</td>\n",
       "    </tr>\n",
       "    <tr>\n",
       "      <th>43281</th>\n",
       "      <td>20131108-alabama-oklahoma</td>\n",
       "      <td>1</td>\n",
       "      <td>2014</td>\n",
       "      <td>2013-11-08</td>\n",
       "      <td>Alabama</td>\n",
       "      <td>Oklahoma</td>\n",
       "      <td>0</td>\n",
       "      <td>0</td>\n",
       "      <td>0</td>\n",
       "      <td>0</td>\n",
       "      <td>...</td>\n",
       "      <td>8.250000</td>\n",
       "      <td>0.992020</td>\n",
       "      <td>0.852941</td>\n",
       "      <td>0.994295</td>\n",
       "      <td>0.835165</td>\n",
       "      <td>0.792496</td>\n",
       "      <td>2.787879</td>\n",
       "      <td>73</td>\n",
       "      <td>82</td>\n",
       "      <td>0</td>\n",
       "    </tr>\n",
       "    <tr>\n",
       "      <th>43282</th>\n",
       "      <td>20131108-alabamast-illinois</td>\n",
       "      <td>1</td>\n",
       "      <td>2014</td>\n",
       "      <td>2013-11-08</td>\n",
       "      <td>Illinois</td>\n",
       "      <td>Alabama St.</td>\n",
       "      <td>0</td>\n",
       "      <td>0</td>\n",
       "      <td>0</td>\n",
       "      <td>0</td>\n",
       "      <td>...</td>\n",
       "      <td>0.591973</td>\n",
       "      <td>0.956948</td>\n",
       "      <td>0.398305</td>\n",
       "      <td>0.852152</td>\n",
       "      <td>0.042146</td>\n",
       "      <td>3.916374</td>\n",
       "      <td>0.163880</td>\n",
       "      <td>80</td>\n",
       "      <td>63</td>\n",
       "      <td>1</td>\n",
       "    </tr>\n",
       "    <tr>\n",
       "      <th>43285</th>\n",
       "      <td>20131108-albany-siena</td>\n",
       "      <td>1</td>\n",
       "      <td>2014</td>\n",
       "      <td>2013-11-08</td>\n",
       "      <td>Albany</td>\n",
       "      <td>Siena</td>\n",
       "      <td>0</td>\n",
       "      <td>0</td>\n",
       "      <td>0</td>\n",
       "      <td>0</td>\n",
       "      <td>...</td>\n",
       "      <td>0.908333</td>\n",
       "      <td>0.979566</td>\n",
       "      <td>0.718182</td>\n",
       "      <td>1.029238</td>\n",
       "      <td>1.653846</td>\n",
       "      <td>0.908098</td>\n",
       "      <td>1.145695</td>\n",
       "      <td>74</td>\n",
       "      <td>62</td>\n",
       "      <td>1</td>\n",
       "    </tr>\n",
       "  </tbody>\n",
       "</table>\n",
       "<p>5 rows × 74 columns</p>\n",
       "</div>"
      ],
      "text/plain": [
       "                              game_id  game_group  year        date  \\\n",
       "43277          20131108-airforce-army           1  2014  2013-11-08   \n",
       "43279  20131108-akron-coastalcarolina           1  2014  2013-11-08   \n",
       "43281       20131108-alabama-oklahoma           1  2014  2013-11-08   \n",
       "43282     20131108-alabamast-illinois           1  2014  2013-11-08   \n",
       "43285           20131108-albany-siena           1  2014  2013-11-08   \n",
       "\n",
       "                   team     opponent  conference  conference_tournament  \\\n",
       "43277         Air Force         Army           0                      0   \n",
       "43279  Coastal Carolina        Akron           0                      0   \n",
       "43281           Alabama     Oklahoma           0                      0   \n",
       "43282          Illinois  Alabama St.           0                      0   \n",
       "43285            Albany        Siena           0                      0   \n",
       "\n",
       "       ncaa_tournament  other_tournament ...   ratio_RankAdjOE  ratio_DE  \\\n",
       "43277                0                 0 ...          1.611429  0.995965   \n",
       "43279                0                 0 ...          1.626437  0.992823   \n",
       "43281                0                 0 ...          8.250000  0.992020   \n",
       "43282                0                 0 ...          0.591973  0.956948   \n",
       "43285                0                 0 ...          0.908333  0.979566   \n",
       "\n",
       "       ratio_RankDE  ratio_AdjDE  ratio_RankAdjDE  ratio_Pythag  \\\n",
       "43277      0.959350     0.958617         0.682143      0.863300   \n",
       "43279      0.804348     0.994553         0.918699      0.705015   \n",
       "43281      0.852941     0.994295         0.835165      0.792496   \n",
       "43282      0.398305     0.852152         0.042146      3.916374   \n",
       "43285      0.718182     1.029238         1.653846      0.908098   \n",
       "\n",
       "       ratio_RankPythag  points_for  points_against  win  \n",
       "43277          1.105042          79              68    1  \n",
       "43279          1.510638          63              72    0  \n",
       "43281          2.787879          73              82    0  \n",
       "43282          0.163880          80              63    1  \n",
       "43285          1.145695          74              62    1  \n",
       "\n",
       "[5 rows x 74 columns]"
      ]
     },
     "execution_count": 5,
     "metadata": {},
     "output_type": "execute_result"
    }
   ],
   "source": [
    "games_2014.head()"
   ]
  },
  {
   "cell_type": "code",
   "execution_count": 44,
   "metadata": {
    "collapsed": false
   },
   "outputs": [],
   "source": [
    "# Define our data.\n",
    "# x = np.array(games_2014.team_Pythag)\n",
    "y = np.array(games_2014.win)\n",
    "\n",
    "# Define our priors on intercept and error. PyMC uses precision (inverse variance).\n",
    "b0 = pymc.Normal('b0', 0, 0.0003)\n",
    "err = pymc.Bernoulli('err', .5)\n",
    "\n",
    "# Features list.\n",
    "features = ['diff_Tempo','diff_Pythag']\n",
    "\n",
    "# Containers for coefficients and data.\n",
    "b = np.empty(len(features), dtype=object)\n",
    "x = np.empty(len(features), dtype=object)\n",
    "\n",
    "# Traverse features.\n",
    "for i, f in enumerate(features):\n",
    "    b[i] = pymc.Normal('b' + str(i + 1), 0, 0.0003, value=0)\n",
    "    x[i] = pymc.Normal('x' + str(i + 1), 0, 1, value=np.array(games_2014[f]), observed=True)\n",
    "\n",
    "# Logistic function.\n",
    "@pymc.deterministic\n",
    "def logistic(b0=b0, b=b, x=x):\n",
    "    return 1.0 / (1. + np.exp(-(b0 + b.dot(x))))\n",
    "\n",
    "# \"Model\" outcome.\n",
    "y_pymc = pymc.Bernoulli('win', logistic, value=y, observed=True)\n",
    "\n",
    "# Model.\n",
    "model = pymc.Model([logistic, pymc.Container(b), err, pymc.Container(x), y_pymc])"
   ]
  },
  {
   "cell_type": "code",
   "execution_count": 45,
   "metadata": {
    "collapsed": false
   },
   "outputs": [
    {
     "name": "stdout",
     "output_type": "stream",
     "text": [
      " [-----------------100%-----------------] 10000 of 10000 complete in 9.8 sec"
     ]
    }
   ],
   "source": [
    "# Prepare for MCMC.\n",
    "mcmc = pymc.MCMC(model)\n",
    "\n",
    "# Use Metropolis.\n",
    "mcmc.use_step_method(pymc.Metropolis, stochastic=b0, proposal_sd=1., proposal_distribution='Normal')\n",
    "mcmc.use_step_method(pymc.Metropolis, stochastic=err, proposal_sd=1., proposal_distribution='Normal')\n",
    "for bx in b:\n",
    "    mcmc.use_step_method(pymc.Metropolis, stochastic=bx, proposal_sd=1., proposal_distribution='Normal')\n",
    "\n",
    "# Sample!\n",
    "mcmc.sample(10000, 2000)"
   ]
  },
  {
   "cell_type": "code",
   "execution_count": 43,
   "metadata": {
    "collapsed": false
   },
   "outputs": [
    {
     "name": "stdout",
     "output_type": "stream",
     "text": [
      "0.0312121362096\n",
      "0.00597928608581\n",
      "6.56013813637\n"
     ]
    }
   ],
   "source": [
    "print mcmc.trace('b0')[:].mean()\n",
    "print mcmc.trace('b1')[:].mean()\n",
    "print mcmc.trace('b2')[:].mean()"
   ]
  },
  {
   "cell_type": "code",
   "execution_count": 21,
   "metadata": {
    "collapsed": false
   },
   "outputs": [
    {
     "data": {
      "text/plain": [
       "(array([  213.,   180.,   738.,  1964.,  1731.,  1514.,  1212.,   264.,\n",
       "           88.,    96.]),\n",
       " array([-0.06714108, -0.04752738, -0.02791369, -0.00829999,  0.01131371,\n",
       "         0.03092741,  0.0505411 ,  0.0701548 ,  0.0897685 ,  0.1093822 ,\n",
       "         0.12899589]),\n",
       " <a list of 10 Patch objects>)"
      ]
     },
     "execution_count": 21,
     "metadata": {},
     "output_type": "execute_result"
    },
    {
     "data": {
      "image/png": "[encoded data removed]",
      "text/plain": [
       "<matplotlib.figure.Figure at 0x112e46490>"
      ]
     },
     "metadata": {},
     "output_type": "display_data"
    }
   ],
   "source": [
    "plt.hist(mcmc.trace('b0')[:])"
   ]
  },
  {
   "cell_type": "code",
   "execution_count": 22,
   "metadata": {
    "collapsed": false
   },
   "outputs": [
    {
     "data": {
      "text/plain": [
       "(array([  6.20000000e+01,   5.63000000e+02,   1.05400000e+03,\n",
       "          2.12300000e+03,   2.52900000e+03,   1.07700000e+03,\n",
       "          4.56000000e+02,   1.29000000e+02,   6.00000000e+00,\n",
       "          1.00000000e+00]),\n",
       " array([-0.02161987, -0.01494594, -0.00827201, -0.00159809,  0.00507584,\n",
       "         0.01174977,  0.0184237 ,  0.02509762,  0.03177155,  0.03844548,\n",
       "         0.04511941]),\n",
       " <a list of 10 Patch objects>)"
      ]
     },
     "execution_count": 22,
     "metadata": {},
     "output_type": "execute_result"
    },
    {
     "data": {
      "image/png": "[encoded data removed]",
      "text/plain": [
       "<matplotlib.figure.Figure at 0x112de3850>"
      ]
     },
     "metadata": {},
     "output_type": "display_data"
    }
   ],
   "source": [
    "plt.hist(mcmc.trace('b1')[:])"
   ]
  },
  {
   "cell_type": "code",
   "execution_count": 23,
   "metadata": {
    "collapsed": false
   },
   "outputs": [
    {
     "data": {
      "text/plain": [
       "(array([   20.,   166.,   504.,  1257.,  1652.,  2041.,  1370.,   654.,\n",
       "          280.,    56.]),\n",
       " array([ 5.95603075,  6.07458922,  6.1931477 ,  6.31170617,  6.43026464,\n",
       "         6.54882312,  6.66738159,  6.78594006,  6.90449854,  7.02305701,\n",
       "         7.14161548]),\n",
       " <a list of 10 Patch objects>)"
      ]
     },
     "execution_count": 23,
     "metadata": {},
     "output_type": "execute_result"
    },
    {
     "data": {
      "image/png": "[encoded data removed]",
      "text/plain": [
       "<matplotlib.figure.Figure at 0x112eabc50>"
      ]
     },
     "metadata": {},
     "output_type": "display_data"
    }
   ],
   "source": [
    "plt.hist(mcmc.trace('b2')[:])"
   ]
  },
  {
   "cell_type": "code",
   "execution_count": 35,
   "metadata": {
    "collapsed": false
   },
   "outputs": [
    {
     "data": {
      "text/plain": [
       "(array([ 3988.,     0.,     0.,     0.,     0.,     0.,     0.,     0.,\n",
       "            0.,  4012.]),\n",
       " array([ 0. ,  0.1,  0.2,  0.3,  0.4,  0.5,  0.6,  0.7,  0.8,  0.9,  1. ]),\n",
       " <a list of 10 Patch objects>)"
      ]
     },
     "execution_count": 35,
     "metadata": {},
     "output_type": "execute_result"
    },
    {
     "data": {
      "image/png": "[encoded data removed]",
      "text/plain": [
       "<matplotlib.figure.Figure at 0x112eef2d0>"
      ]
     },
     "metadata": {},
     "output_type": "display_data"
    }
   ],
   "source": [
    "plt.hist(mcmc.trace('err')[:])"
   ]
  }
 ],
 "metadata": {
  "kernelspec": {
   "display_name": "Python 2",
   "language": "python",
   "name": "python2"
  },
  "language_info": {
   "codemirror_mode": {
    "name": "ipython",
    "version": 2
   },
   "file_extension": ".py",
   "mimetype": "text/x-python",
   "name": "python",
   "nbconvert_exporter": "python",
   "pygments_lexer": "ipython2",
   "version": "2.7.6"
  }
 },
 "nbformat": 4,
 "nbformat_minor": 0
}
