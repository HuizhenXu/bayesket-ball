{
 "cells": [
  {
   "cell_type": "markdown",
   "metadata": {},
   "source": [
    "# Simple Logistic Regression Model"
   ]
  },
  {
   "cell_type": "markdown",
   "metadata": {},
   "source": [
    "## Setup"
   ]
  },
  {
   "cell_type": "code",
   "execution_count": 1,
   "metadata": {
    "collapsed": true
   },
   "outputs": [],
   "source": [
    "# Libraries.\n",
    "\n",
    "import matplotlib, matplotlib.pyplot as plt\n",
    "import numpy  as np\n",
    "import pandas as pd\n",
    "import pymc"
   ]
  },
  {
   "cell_type": "code",
   "execution_count": 15,
   "metadata": {
    "collapsed": false
   },
   "outputs": [],
   "source": [
    "# Settings.\n",
    "\n",
    "% %matplotlib inline"
   ]
  },
  {
   "cell_type": "code",
   "execution_count": null,
   "metadata": {
    "collapsed": true
   },
   "outputs": [],
   "source": [
    "# Constants.\n",
    "\n"
   ]
  },
  {
   "cell_type": "markdown",
   "metadata": {},
   "source": [
    "## Data"
   ]
  },
  {
   "cell_type": "code",
   "execution_count": 3,
   "metadata": {
    "collapsed": true
   },
   "outputs": [],
   "source": [
    "# Read games.\n",
    "games = pd.read_csv('../../../data/games.csv')\n",
    "# Trim to single group.\n",
    "games = games[games.game_group == 1]\n",
    "\n",
    "# Store single year.\n",
    "games_2014 = games[games.year == 2014]"
   ]
  },
  {
   "cell_type": "code",
   "execution_count": 12,
   "metadata": {
    "collapsed": false,
    "scrolled": true
   },
   "outputs": [
    {
     "data": {
      "text/html": [
       "<div style=\"max-height:1000px;max-width:1500px;overflow:auto;\">\n",
       "<table border=\"1\" class=\"dataframe\">\n",
       "  <thead>\n",
       "    <tr style=\"text-align: right;\">\n",
       "      <th></th>\n",
       "      <th>game_id</th>\n",
       "      <th>game_group</th>\n",
       "      <th>year</th>\n",
       "      <th>date</th>\n",
       "      <th>team</th>\n",
       "      <th>opponent</th>\n",
       "      <th>conference</th>\n",
       "      <th>conference_tournament</th>\n",
       "      <th>ncaa_tournament</th>\n",
       "      <th>other_tournament</th>\n",
       "      <th>...</th>\n",
       "      <th>opponent_RankAdjOE</th>\n",
       "      <th>opponent_DE</th>\n",
       "      <th>opponent_RankDE</th>\n",
       "      <th>opponent_AdjDE</th>\n",
       "      <th>opponent_RankAdjDE</th>\n",
       "      <th>opponent_Pythag</th>\n",
       "      <th>opponent_RankPythag</th>\n",
       "      <th>points_for</th>\n",
       "      <th>points_against</th>\n",
       "      <th>win</th>\n",
       "    </tr>\n",
       "  </thead>\n",
       "  <tbody>\n",
       "    <tr>\n",
       "      <th>43277</th>\n",
       "      <td>20131108-airforce-army</td>\n",
       "      <td>1</td>\n",
       "      <td>2014</td>\n",
       "      <td>2013-11-08</td>\n",
       "      <td>Air Force</td>\n",
       "      <td>Army</td>\n",
       "      <td>0</td>\n",
       "      <td>0</td>\n",
       "      <td>0</td>\n",
       "      <td>0</td>\n",
       "      <td>...</td>\n",
       "      <td>175</td>\n",
       "      <td>107.6478</td>\n",
       "      <td>246</td>\n",
       "      <td>110.3330</td>\n",
       "      <td>280</td>\n",
       "      <td>0.341580</td>\n",
       "      <td>238</td>\n",
       "      <td>79</td>\n",
       "      <td>68</td>\n",
       "      <td>1</td>\n",
       "    </tr>\n",
       "    <tr>\n",
       "      <th>43278</th>\n",
       "      <td>20131108-akron-coastalcarolina</td>\n",
       "      <td>1</td>\n",
       "      <td>2014</td>\n",
       "      <td>2013-11-08</td>\n",
       "      <td>Akron</td>\n",
       "      <td>Coastal Carolina</td>\n",
       "      <td>0</td>\n",
       "      <td>0</td>\n",
       "      <td>0</td>\n",
       "      <td>0</td>\n",
       "      <td>...</td>\n",
       "      <td>283</td>\n",
       "      <td>100.3050</td>\n",
       "      <td>74</td>\n",
       "      <td>102.3126</td>\n",
       "      <td>113</td>\n",
       "      <td>0.379442</td>\n",
       "      <td>213</td>\n",
       "      <td>72</td>\n",
       "      <td>63</td>\n",
       "      <td>1</td>\n",
       "    </tr>\n",
       "    <tr>\n",
       "      <th>43281</th>\n",
       "      <td>20131108-alabama-oklahoma</td>\n",
       "      <td>1</td>\n",
       "      <td>2014</td>\n",
       "      <td>2013-11-08</td>\n",
       "      <td>Alabama</td>\n",
       "      <td>Oklahoma</td>\n",
       "      <td>0</td>\n",
       "      <td>0</td>\n",
       "      <td>0</td>\n",
       "      <td>0</td>\n",
       "      <td>...</td>\n",
       "      <td>16</td>\n",
       "      <td>104.7806</td>\n",
       "      <td>170</td>\n",
       "      <td>100.5905</td>\n",
       "      <td>91</td>\n",
       "      <td>0.841570</td>\n",
       "      <td>33</td>\n",
       "      <td>73</td>\n",
       "      <td>82</td>\n",
       "      <td>0</td>\n",
       "    </tr>\n",
       "    <tr>\n",
       "      <th>43283</th>\n",
       "      <td>20131108-alabamast-illinois</td>\n",
       "      <td>1</td>\n",
       "      <td>2014</td>\n",
       "      <td>2013-11-08</td>\n",
       "      <td>Alabama St.</td>\n",
       "      <td>Illinois</td>\n",
       "      <td>0</td>\n",
       "      <td>0</td>\n",
       "      <td>0</td>\n",
       "      <td>0</td>\n",
       "      <td>...</td>\n",
       "      <td>177</td>\n",
       "      <td>98.4731</td>\n",
       "      <td>47</td>\n",
       "      <td>93.2777</td>\n",
       "      <td>11</td>\n",
       "      <td>0.778579</td>\n",
       "      <td>49</td>\n",
       "      <td>63</td>\n",
       "      <td>80</td>\n",
       "      <td>0</td>\n",
       "    </tr>\n",
       "    <tr>\n",
       "      <th>43284</th>\n",
       "      <td>20131108-albany-siena</td>\n",
       "      <td>1</td>\n",
       "      <td>2014</td>\n",
       "      <td>2013-11-08</td>\n",
       "      <td>Siena</td>\n",
       "      <td>Albany</td>\n",
       "      <td>0</td>\n",
       "      <td>0</td>\n",
       "      <td>0</td>\n",
       "      <td>0</td>\n",
       "      <td>...</td>\n",
       "      <td>218</td>\n",
       "      <td>100.4291</td>\n",
       "      <td>79</td>\n",
       "      <td>103.0624</td>\n",
       "      <td>129</td>\n",
       "      <td>0.469798</td>\n",
       "      <td>173</td>\n",
       "      <td>62</td>\n",
       "      <td>74</td>\n",
       "      <td>0</td>\n",
       "    </tr>\n",
       "  </tbody>\n",
       "</table>\n",
       "<p>5 rows × 46 columns</p>\n",
       "</div>"
      ],
      "text/plain": [
       "                              game_id  game_group  year        date  \\\n",
       "43277          20131108-airforce-army           1  2014  2013-11-08   \n",
       "43278  20131108-akron-coastalcarolina           1  2014  2013-11-08   \n",
       "43281       20131108-alabama-oklahoma           1  2014  2013-11-08   \n",
       "43283     20131108-alabamast-illinois           1  2014  2013-11-08   \n",
       "43284           20131108-albany-siena           1  2014  2013-11-08   \n",
       "\n",
       "              team          opponent  conference  conference_tournament  \\\n",
       "43277    Air Force              Army           0                      0   \n",
       "43278        Akron  Coastal Carolina           0                      0   \n",
       "43281      Alabama          Oklahoma           0                      0   \n",
       "43283  Alabama St.          Illinois           0                      0   \n",
       "43284        Siena            Albany           0                      0   \n",
       "\n",
       "       ncaa_tournament  other_tournament ...   opponent_RankAdjOE  \\\n",
       "43277                0                 0 ...                  175   \n",
       "43278                0                 0 ...                  283   \n",
       "43281                0                 0 ...                   16   \n",
       "43283                0                 0 ...                  177   \n",
       "43284                0                 0 ...                  218   \n",
       "\n",
       "       opponent_DE  opponent_RankDE  opponent_AdjDE  opponent_RankAdjDE  \\\n",
       "43277     107.6478              246        110.3330                 280   \n",
       "43278     100.3050               74        102.3126                 113   \n",
       "43281     104.7806              170        100.5905                  91   \n",
       "43283      98.4731               47         93.2777                  11   \n",
       "43284     100.4291               79        103.0624                 129   \n",
       "\n",
       "       opponent_Pythag  opponent_RankPythag  points_for  points_against  win  \n",
       "43277         0.341580                  238          79              68    1  \n",
       "43278         0.379442                  213          72              63    1  \n",
       "43281         0.841570                   33          73              82    0  \n",
       "43283         0.778579                   49          63              80    0  \n",
       "43284         0.469798                  173          62              74    0  \n",
       "\n",
       "[5 rows x 46 columns]"
      ]
     },
     "execution_count": 12,
     "metadata": {},
     "output_type": "execute_result"
    }
   ],
   "source": [
    "games_2014.head()"
   ]
  },
  {
   "cell_type": "code",
   "execution_count": 7,
   "metadata": {
    "collapsed": false
   },
   "outputs": [],
   "source": [
    "# Define our data.\n",
    "x = np.array(games_2014.team_Pythag)\n",
    "y = np.array(games_2014.win)\n",
    "\n",
    "# Define our priors. PyMC uses precision (inverse variance).\n",
    "b0 = pymc.Normal('b0', 0, 0.0003)\n",
    "b1 = pymc.Normal('b1', 0, 0.0003)\n",
    "\n",
    "# Error distribution.\n",
    "err = pymc.Bernoulli('err', .5)\n",
    "\n",
    "# Logistic function.\n",
    "@pymc.deterministic\n",
    "def logistic(b0=b0, b1=b1, x=x):\n",
    "    return 1.0 / (1. + np.exp(-(b0 + b1 * x)))\n",
    "\n",
    "# Create data in PyMC way.\n",
    "x_pymc = pymc.Normal('team_Pythag', 0, 1, value=x, observed=True)\n",
    "y_pymc = pymc.Bernoulli('win', logistic, value=y, observed=True)\n",
    "\n",
    "# Model\n",
    "model = pymc.Model([logistic, b0, b1, y_pymc, err, x_pymc])"
   ]
  },
  {
   "cell_type": "code",
   "execution_count": 12,
   "metadata": {
    "collapsed": false
   },
   "outputs": [
    {
     "name": "stdout",
     "output_type": "stream",
     "text": [
      " [-----------------100%-----------------] 10000 of 10000 complete in 6.3 sec"
     ]
    }
   ],
   "source": [
    "# Prepare for MCMC.\n",
    "mcmc = pymc.MCMC(model)\n",
    "\n",
    "# Sample!\n",
    "mcmc.sample(10000, 2000)"
   ]
  },
  {
   "cell_type": "code",
   "execution_count": 13,
   "metadata": {
    "collapsed": false
   },
   "outputs": [
    {
     "name": "stdout",
     "output_type": "stream",
     "text": [
      "-1.41652206179\n",
      "2.79229389247\n"
     ]
    }
   ],
   "source": [
    "print mcmc.trace('b0')[:].mean()\n",
    "print mcmc.trace('b1')[:].mean()"
   ]
  },
  {
   "cell_type": "code",
   "execution_count": 16,
   "metadata": {
    "collapsed": false
   },
   "outputs": [
    {
     "data": {
      "text/plain": [
       "(array([   36.,   320.,   956.,  2075.,  2069.,  1634.,   533.,   223.,\n",
       "          111.,    43.]),\n",
       " array([-1.6296561 , -1.581005  , -1.5323539 , -1.4837028 , -1.43505171,\n",
       "        -1.38640061, -1.33774951, -1.28909842, -1.24044732, -1.19179622,\n",
       "        -1.14314513]),\n",
       " <a list of 10 Patch objects>)"
      ]
     },
     "execution_count": 16,
     "metadata": {},
     "output_type": "execute_result"
    },
    {
     "data": {
      "image/png": "[encoded data removed]",
      "text/plain": [
       "<matplotlib.figure.Figure at 0x107f0c490>"
      ]
     },
     "metadata": {},
     "output_type": "display_data"
    }
   ],
   "source": [
    "plt.hist(mcmc.trace('b0')[:])"
   ]
  },
  {
   "cell_type": "code",
   "execution_count": 17,
   "metadata": {
    "collapsed": false
   },
   "outputs": [
    {
     "data": {
      "text/plain": [
       "(array([   16.,    85.,   206.,   859.,  1737.,  2332.,  1847.,   774.,\n",
       "          132.,    12.]),\n",
       " array([ 2.25980265,  2.35791958,  2.45603652,  2.55415345,  2.65227038,\n",
       "         2.75038732,  2.84850425,  2.94662118,  3.04473812,  3.14285505,\n",
       "         3.24097198]),\n",
       " <a list of 10 Patch objects>)"
      ]
     },
     "execution_count": 17,
     "metadata": {},
     "output_type": "execute_result"
    },
    {
     "data": {
      "image/png": "[encoded data removed]",
      "text/plain": [
       "<matplotlib.figure.Figure at 0x10e594850>"
      ]
     },
     "metadata": {},
     "output_type": "display_data"
    }
   ],
   "source": [
    "plt.hist(mcmc.trace('b1')[:])"
   ]
  }
 ],
 "metadata": {
  "kernelspec": {
   "display_name": "Python 2",
   "language": "python",
   "name": "python2"
  },
  "language_info": {
   "codemirror_mode": {
    "name": "ipython",
    "version": 2
   },
   "file_extension": ".py",
   "mimetype": "text/x-python",
   "name": "python",
   "nbconvert_exporter": "python",
   "pygments_lexer": "ipython2",
   "version": "2.7.6"
  }
 },
 "nbformat": 4,
 "nbformat_minor": 0
}
